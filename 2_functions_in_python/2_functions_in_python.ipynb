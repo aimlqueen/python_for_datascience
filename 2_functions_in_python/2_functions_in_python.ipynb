{
 "cells": [
  {
   "cell_type": "code",
   "execution_count": 12,
   "id": "04878ee6-2f29-4d98-9e91-71ca889f24fc",
   "metadata": {},
   "outputs": [
    {
     "name": "stdout",
     "output_type": "stream",
     "text": [
      "Hello World\n"
     ]
    }
   ],
   "source": [
    "#basic function program\n",
    "def hello():\n",
    "    print(\"Hello World\")\n",
    "hello()"
   ]
  },
  {
   "cell_type": "code",
   "execution_count": 9,
   "id": "f829e8e4-fb97-414d-aa5d-3689fbb74473",
   "metadata": {},
   "outputs": [
    {
     "name": "stdout",
     "output_type": "stream",
     "text": [
      "Addition: 7\n",
      "Subtraction: 3\n",
      "Multiplication: 10\n",
      "Division: 2.5\n",
      "------------------------------------\n",
      "Addition: 7\n",
      "Subtraction: -1\n",
      "Multiplication: 12\n",
      "Division: 0.75\n",
      "------------------------------------\n"
     ]
    }
   ],
   "source": [
    "#positional arguments\n",
    "def calcu(a,b):\n",
    "    print(\"Addition:\",a+b)\n",
    "    print(\"Subtraction:\",a-b)\n",
    "    print(\"Multiplication:\",a*b)\n",
    "    print(\"Division:\",a/b)\n",
    "    print(\"-\"*36)\n",
    "calcu(5,2)\n",
    "calcu(3,4)"
   ]
  },
  {
   "cell_type": "code",
   "execution_count": 18,
   "id": "05be3ade-ae10-4c76-b0a9-224452e93bb7",
   "metadata": {},
   "outputs": [
    {
     "name": "stdout",
     "output_type": "stream",
     "text": [
      "Simple interest is 100.0\n",
      "Simple interest is 250.0\n",
      "Simple interest is 500.0\n"
     ]
    }
   ],
   "source": [
    "#default argument\n",
    "def simple_interest(p,r=2,t=5):\n",
    "    interest=(p*r*t)/100\n",
    "    print(f\"Simple interest is {interest}\")\n",
    "simple_interest(1000)\n",
    "simple_interest(1000,5)\n",
    "simple_interest(1000,5,10)"
   ]
  },
  {
   "cell_type": "code",
   "execution_count": 20,
   "id": "05176b9c-df6a-4e02-bab4-31f55bc8e8af",
   "metadata": {},
   "outputs": [
    {
     "name": "stdout",
     "output_type": "stream",
     "text": [
      "Nimisha Davis\n",
      "Nimisha Shareef\n"
     ]
    }
   ],
   "source": [
    "#keyword argument\n",
    "def student(firstname,lastname):\n",
    "    print(firstname,lastname)\n",
    "student(firstname=\"Nimisha\",lastname=\"Davis\")\n",
    "student(firstname=\"Nimisha\",lastname=\"Shareef\")"
   ]
  },
  {
   "cell_type": "code",
   "execution_count": 22,
   "id": "a545f101-4eb5-4732-8710-5a254c2de14c",
   "metadata": {},
   "outputs": [
    {
     "name": "stdout",
     "output_type": "stream",
     "text": [
      "1\n",
      "2\n",
      "3\n",
      "4\n"
     ]
    }
   ],
   "source": [
    "#Arbitary arguments\n",
    "def student(*args):\n",
    "    for i in args:\n",
    "        print(i)\n",
    "student(1,2,3,4)"
   ]
  },
  {
   "cell_type": "code",
   "execution_count": 32,
   "id": "95b70a49-ea6e-4777-bc7a-63288c787879",
   "metadata": {},
   "outputs": [
    {
     "name": "stdout",
     "output_type": "stream",
     "text": [
      "m 1\n",
      "n 2\n",
      "o 3\n"
     ]
    }
   ],
   "source": [
    "#Arbitary arguments\n",
    "def student(**kwargs):\n",
    "    for i,j in kwargs.items():\n",
    "        print(i,j)\n",
    "student(m=1,n=2,o=3)"
   ]
  },
  {
   "cell_type": "code",
   "execution_count": 7,
   "id": "8a1ad923-d460-4a43-83e1-30779cd48036",
   "metadata": {},
   "outputs": [
    {
     "name": "stdout",
     "output_type": "stream",
     "text": [
      "sum: 3\n",
      "average: 1.5\n"
     ]
    }
   ],
   "source": [
    "#return example\n",
    "\n",
    "def test(a,b):\n",
    "    sum=a+b\n",
    "    average=sum/2\n",
    "    return sum,average\n",
    "r1,r2=test(1,2)\n",
    "print(f\"sum: {r1}\")\n",
    "print(f\"average: {r2}\")"
   ]
  },
  {
   "cell_type": "code",
   "execution_count": 19,
   "id": "0ebf00ab-6895-4228-9ecc-7e1165e990fa",
   "metadata": {},
   "outputs": [
    {
     "name": "stdout",
     "output_type": "stream",
     "text": [
      "the factorial of 5 is 120\n"
     ]
    }
   ],
   "source": [
    "#factorial \n",
    "def factorial(num):\n",
    "    fact=1\n",
    "    for i in range(1,num+1):\n",
    "        fact*=i\n",
    "    print(f\"the factorial of {num} is {fact}\")\n",
    "\n",
    "factorial(5)"
   ]
  },
  {
   "cell_type": "code",
   "execution_count": 25,
   "id": "78048f98-c17e-49b2-abf1-d233eec38fa9",
   "metadata": {},
   "outputs": [
    {
     "name": "stdout",
     "output_type": "stream",
     "text": [
      "the factorial of 5 is 120\n"
     ]
    }
   ],
   "source": [
    "#factorial  using return\n",
    "def factorial(num):\n",
    "    fact=1\n",
    "    for i in range(1,num+1):\n",
    "        fact*=i\n",
    "    return fact,num\n",
    "\n",
    "fact,num=factorial(5)\n",
    "print(f\"the factorial of {num} is {fact}\")"
   ]
  },
  {
   "cell_type": "code",
   "execution_count": 7,
   "id": "50cee5b7-d26e-4a44-88b4-a05aa9d0a647",
   "metadata": {},
   "outputs": [
    {
     "name": "stdout",
     "output_type": "stream",
     "text": [
      "the string is: ahsimin\n"
     ]
    }
   ],
   "source": [
    "#reverse of a string\n",
    "def rev(s):\n",
    "    return s[::-1]\n",
    "\n",
    "s=rev(\"nimisha\")\n",
    "print(\"the string is:\",s)"
   ]
  },
  {
   "cell_type": "code",
   "execution_count": 5,
   "id": "76786417-882f-450a-9f7f-ef3d899e9c3d",
   "metadata": {},
   "outputs": [
    {
     "name": "stdout",
     "output_type": "stream",
     "text": [
      "33\n"
     ]
    }
   ],
   "source": [
    "#max value in list\n",
    "lst=[1,2,33,4,5,12]\n",
    "def max_list(lst):\n",
    "    print(max(lst))\n",
    "max_list(lst)"
   ]
  },
  {
   "cell_type": "code",
   "execution_count": 67,
   "id": "f80ce05c-e34d-4002-ac76-2152def9f8ac",
   "metadata": {},
   "outputs": [
    {
     "name": "stdout",
     "output_type": "stream",
     "text": [
      "5\n"
     ]
    }
   ],
   "source": [
    "lst=[1, 2, 3, 4, 5]\n",
    "\n",
    "def max_list(lst):\n",
    "    max_value=lst[0]\n",
    "    for num in lst:\n",
    "        if num>max_value:\n",
    "            max_value=num\n",
    "    print(max_value)\n",
    "\n",
    "max_list(lst)"
   ]
  },
  {
   "cell_type": "code",
   "execution_count": 54,
   "id": "07866caf-ad4e-4b83-9318-b5900999fe8d",
   "metadata": {},
   "outputs": [
    {
     "name": "stdin",
     "output_type": "stream",
     "text": [
      "Enter temp: 122\n"
     ]
    },
    {
     "name": "stdout",
     "output_type": "stream",
     "text": [
      "50.0C is equal to 251.6F\n",
      "251.6F is equal to 50.0C\n"
     ]
    }
   ],
   "source": [
    "#f-c and c-f\n",
    "\n",
    "temp=int(input(\"Enter temp:\"))\n",
    "\n",
    "def f_c(fahrenheit):\n",
    "    return(fahrenheit-32)*5/9\n",
    "\n",
    "def c_f(celsius):\n",
    "    return(celsius*9/5+32)\n",
    "\n",
    "\n",
    "c_temp=f_c(temp)\n",
    "f_temp=c_f(temp)\n",
    "\n",
    "print(f\"{c_temp}C is equal to {f_temp}F\")\n",
    "print(f\"{f_temp}F is equal to {c_temp}C\")"
   ]
  },
  {
   "cell_type": "code",
   "execution_count": 115,
   "id": "10a51ef6-d08c-4db0-86c6-f229ceb59335",
   "metadata": {},
   "outputs": [
    {
     "name": "stdout",
     "output_type": "stream",
     "text": [
      "100\n"
     ]
    }
   ],
   "source": [
    "#arbitary list\n",
    "def max_list(*args):\n",
    "    max_value=args[0]\n",
    "    for num in args:\n",
    "        if num>max_value:\n",
    "            max_value=num\n",
    "    return max_value\n",
    "\n",
    "\n",
    "max_value = max_list(1,2,3,4,5,12,16,100,2)\n",
    "print(max_value)  \n"
   ]
  },
  {
   "cell_type": "code",
   "execution_count": 113,
   "id": "085fcfd9-450c-4302-a1f0-e205800a2f06",
   "metadata": {},
   "outputs": [
    {
     "name": "stdin",
     "output_type": "stream",
     "text": [
      "Enter a string:  nimisha\n"
     ]
    },
    {
     "name": "stdout",
     "output_type": "stream",
     "text": [
      "The number of vowels in the string is: 3\n"
     ]
    }
   ],
   "source": [
    "#count vowels in string\n",
    "def count_vowels(s):\n",
    "    vowels='aeiouAEIOU'\n",
    "    count=0\n",
    "    for char in s:\n",
    "        if char in vowels:\n",
    "            count+=1\n",
    "    return count\n",
    "\n",
    "name=input(\"Enter a string: \")\n",
    "print(f\"The number of vowels in the string is: {count_vowels(name)}\")\n"
   ]
  },
  {
   "cell_type": "code",
   "execution_count": 103,
   "id": "afcb0443-eb8e-4022-9cc6-1a3b7fdd5472",
   "metadata": {},
   "outputs": [
    {
     "name": "stdin",
     "output_type": "stream",
     "text": [
      "Enter a number:  153\n"
     ]
    },
    {
     "name": "stdout",
     "output_type": "stream",
     "text": [
      "153 is not a prime number.\n"
     ]
    }
   ],
   "source": [
    "#check num prime or not\n",
    "\n",
    "def is_prime(num):\n",
    "    if num<=1:\n",
    "        return False\n",
    "    for i in range(2,num):\n",
    "        if num%i==0:\n",
    "            return False\n",
    "    return True\n",
    "\n",
    "num=int(input(\"Enter a number: \"))\n",
    "if is_prime(num):\n",
    "    print(num, \"is a prime number.\")\n",
    "else:\n",
    "    print(num, \"is not a prime number.\")\n"
   ]
  },
  {
   "cell_type": "code",
   "execution_count": 91,
   "id": "0ecba82c-daf6-42b5-bf1d-d1ebc81ffe62",
   "metadata": {},
   "outputs": [
    {
     "name": "stdout",
     "output_type": "stream",
     "text": [
      "The length of the list is: 5\n"
     ]
    }
   ],
   "source": [
    "#find length of the list without using len()\n",
    "def list_length(lst):\n",
    "    count=0\n",
    "    for i in lst:\n",
    "        count+=1\n",
    "    return count\n",
    "\n",
    "my_list=[1,2,3,4,5]\n",
    "print(f\"The length of the list is: {list_length(my_list)}\")\n"
   ]
  },
  {
   "cell_type": "code",
   "execution_count": 93,
   "id": "9aadf9c0-782d-427a-a3c3-48d6ab2676e7",
   "metadata": {},
   "outputs": [
    {
     "name": "stdout",
     "output_type": "stream",
     "text": [
      "The sum of even numbers is: 12\n"
     ]
    }
   ],
   "source": [
    "#sum of even numbers from list\n",
    "\n",
    "def sum_of_even_numbers(lst):\n",
    "    total=0\n",
    "    for num in lst:\n",
    "        if num%2==0:\n",
    "            total+=num\n",
    "    return total\n",
    "\n",
    "my_list=[1,2,3,4,5,6]\n",
    "print(f\"The sum of even numbers is: {sum_of_even_numbers(my_list)}\")\n"
   ]
  },
  {
   "cell_type": "code",
   "execution_count": 95,
   "id": "5e7541bb-8192-4f02-bd24-d50deb06c1da",
   "metadata": {},
   "outputs": [
    {
     "name": "stdout",
     "output_type": "stream",
     "text": [
      "The sum of odd numbers is: 9\n"
     ]
    }
   ],
   "source": [
    "#sum of odd numbers from list\n",
    "def sum_of_odd_numbers(lst):\n",
    "    total=0\n",
    "    for num in lst:\n",
    "        if num%2!= 0:\n",
    "            total+=num\n",
    "    return total\n",
    "\n",
    "\n",
    "my_list=[1,2,3,4,5,6]\n",
    "print(f\"The sum of odd numbers is: {sum_of_odd_numbers(my_list)}\")\n"
   ]
  },
  {
   "cell_type": "code",
   "execution_count": 97,
   "id": "887f1859-2f99-4541-a616-5abda81464f8",
   "metadata": {},
   "outputs": [
    {
     "name": "stdout",
     "output_type": "stream",
     "text": [
      "The number of characters in the string is: 5\n"
     ]
    }
   ],
   "source": [
    "#count number of char in a string\n",
    "\n",
    "def count_characters(s):\n",
    "    count = 0\n",
    "    for char in s:\n",
    "        count += 1\n",
    "    return count\n",
    "\n",
    "print(f\"The number of characters in the string is: {count_characters(\"hello\")}\")\n"
   ]
  },
  {
   "cell_type": "code",
   "execution_count": 4,
   "id": "5477820b-2159-4f0b-b1b0-7992266ed340",
   "metadata": {},
   "outputs": [
    {
     "name": "stdout",
     "output_type": "stream",
     "text": [
      "factorial of 5 is 120\n"
     ]
    }
   ],
   "source": [
    "#recursive function\n",
    "def rec_fact(n):\n",
    "    if n==1:\n",
    "        return n\n",
    "    else:\n",
    "        return n * rec_fact(n-1)\n",
    "num=5\n",
    "if num<0:\n",
    "    print(\"enter positive num\")\n",
    "elif num==0:\n",
    "    print(\"factorial of 0 is 1\")\n",
    "else:\n",
    "    print(f\"factorial of {num} is {rec_fact(num)}\")"
   ]
  },
  {
   "cell_type": "code",
   "execution_count": 8,
   "id": "16965cf8-789c-4226-9950-80e5ad877a45",
   "metadata": {},
   "outputs": [
    {
     "name": "stdout",
     "output_type": "stream",
     "text": [
      "125\n",
      "216\n"
     ]
    }
   ],
   "source": [
    "#cube of a number\n",
    "#user defined function\n",
    "def cube(x): \n",
    "    return x*x*x\n",
    "print(cube(5))\n",
    "\n",
    "#lambda function\n",
    "cube_lam=lambda x:x*x*x\n",
    "print(cube_lam(6))"
   ]
  },
  {
   "cell_type": "code",
   "execution_count": 10,
   "id": "1d1cb1db-581f-41c3-a290-9e7427297851",
   "metadata": {},
   "outputs": [
    {
     "name": "stdout",
     "output_type": "stream",
     "text": [
      "5\n"
     ]
    }
   ],
   "source": [
    "#sum of 2 number\n",
    "sum_lam=lambda x,y:x+y\n",
    "print(sum_lam(3,2))"
   ]
  },
  {
   "cell_type": "code",
   "execution_count": 3,
   "id": "3f44f327-7ca6-434a-866b-55692205a1e2",
   "metadata": {},
   "outputs": [
    {
     "name": "stdout",
     "output_type": "stream",
     "text": [
      "[1, 4, 9, 16, 25, 64]\n"
     ]
    }
   ],
   "source": [
    "#map()\n",
    "abcd = [1, 2, 3, 4, 5,8] \n",
    "# Use map() with a lambda function to compute squares\n",
    "res = list(map(lambda x: x * x, abcd))\n",
    "print(res)  "
   ]
  },
  {
   "cell_type": "code",
   "execution_count": 29,
   "id": "05533f2c-cd53-4f40-9e34-c1a25db45628",
   "metadata": {},
   "outputs": [
    {
     "name": "stdout",
     "output_type": "stream",
     "text": [
      "[1, 4, 9, 16, 25, 64]\n"
     ]
    }
   ],
   "source": [
    "abcd = [1, 2, 3, 4, 5,8]  \n",
    "# Use map() with a lambda function to compute squares\n",
    "res = list(map(lambda x: x ** 2, abcd))\n",
    "print(res)  \n"
   ]
  },
  {
   "cell_type": "code",
   "execution_count": 33,
   "id": "2b1239c9-76f9-404d-aa74-fe4724aabd51",
   "metadata": {},
   "outputs": [
    {
     "name": "stdout",
     "output_type": "stream",
     "text": [
      "[2, 4, 6, 8, 10, 16]\n"
     ]
    }
   ],
   "source": [
    "abcd = [1, 2, 3, 4, 5,8]  \n",
    "res = list(map(lambda x: x * 2, abcd))\n",
    "print(res)  "
   ]
  },
  {
   "cell_type": "code",
   "execution_count": 37,
   "id": "b496f104-5004-403c-9bf2-310a7f37ae1a",
   "metadata": {},
   "outputs": [
    {
     "name": "stdout",
     "output_type": "stream",
     "text": [
      "[32.0, 50.0, 68.0, 86.0, 104.0]\n"
     ]
    }
   ],
   "source": [
    "#use map() with userdefined function to convert c-f\n",
    "celsius_temps=[0,10,20,30,40]\n",
    "def celsius_to_fahrenheit(celsius):\n",
    "    return (celsius*9/5)+32\n",
    "fahrenheit_temps=list(map(celsius_to_fahrenheit,celsius_temps))\n",
    "print(fahrenheit_temps)"
   ]
  },
  {
   "cell_type": "code",
   "execution_count": 39,
   "id": "6b90091d-7b84-493e-afc8-7da9dc348522",
   "metadata": {},
   "outputs": [
    {
     "name": "stdout",
     "output_type": "stream",
     "text": [
      "[2, 4, 6]\n"
     ]
    }
   ],
   "source": [
    "#filter\n",
    "l1=[2,3,4,5,1,6,9]\n",
    "f=filter(lambda x:x%2==0,l1)\n",
    "print(list(f))"
   ]
  },
  {
   "cell_type": "code",
   "execution_count": 46,
   "id": "30ba50d9-f039-421a-b6fa-e4f555e40e13",
   "metadata": {},
   "outputs": [
    {
     "name": "stdout",
     "output_type": "stream",
     "text": [
      "[2, 4, 6]\n"
     ]
    }
   ],
   "source": [
    "#filter\n",
    "l1=[2,3,4,5,1,6,9]\n",
    "f=list(filter(lambda x:x%2==0,l1))\n",
    "print(f)"
   ]
  },
  {
   "cell_type": "code",
   "execution_count": 63,
   "id": "487d1e40-cac3-485a-910a-71d1c45983e9",
   "metadata": {},
   "outputs": [
    {
     "name": "stdin",
     "output_type": "stream",
     "text": [
      "Enter a string malayalam\n"
     ]
    },
    {
     "name": "stdout",
     "output_type": "stream",
     "text": [
      "YES\n"
     ]
    }
   ],
   "source": [
    "#string palindrome or not\n",
    "def pal(s):\n",
    "    s=s.lower()\n",
    "    return s==s[::-1]\n",
    "s1=input(\"Enter a string\")\n",
    "if pal(s1):\n",
    "    print(\"YES\")\n",
    "else:\n",
    "    print(\"NO\")"
   ]
  },
  {
   "cell_type": "code",
   "execution_count": 65,
   "id": "e60b495f-6722-4dca-b62f-3f0061540b73",
   "metadata": {},
   "outputs": [],
   "source": [
    "#Task:\n",
    "#1.enter no of days and display months name which have exact days\n",
    "#2.accept five number from user and store in a tuple and find largest ,smallest,sum,average\n",
    "#3.element in a given set that are not in another set\n",
    "#4.write a program to find the sum of following series\n",
    "    # x+ x^2/2 + x^3/3+ ....x^n/n\n",
    "#5.write a program to find the first number greater than 10 (jumping statements) of n natural numbers\n"
   ]
  },
  {
   "cell_type": "code",
   "execution_count": 5,
   "id": "2e1d7db6-957a-401a-989c-d7ab335de8a9",
   "metadata": {},
   "outputs": [
    {
     "name": "stdin",
     "output_type": "stream",
     "text": [
      "Enter the number of days: 31\n"
     ]
    },
    {
     "name": "stdout",
     "output_type": "stream",
     "text": [
      "Months with 31 days: January, March, May, July, August, October, December\n"
     ]
    }
   ],
   "source": [
    "#1.enter no of days and display months name which have exact days\n",
    "def months(days):\n",
    "    months_dict={\n",
    "        31: [\"January\",\"March\",\"May\",\"July\",\"August\",\"October\",\"December\"],\n",
    "        30: [\"April\",\"June\",\"September\",\"November\"],\n",
    "        28: [\"February\"],\n",
    "    }\n",
    "    result=months_dict.get(days, []) \n",
    "    if result:\n",
    "        print(f\"Months with {days} days: {', '.join(result)}\")\n",
    "    else:\n",
    "        print(\"Oopsieeee.....No month has exactly that number of days.\")\n",
    "days=int(input(\"Enter the number of days:\"))\n",
    "months(days)"
   ]
  },
  {
   "cell_type": "code",
   "execution_count": 73,
   "id": "9dd1a04e-2902-452e-a8b0-a1b6012a7839",
   "metadata": {},
   "outputs": [
    {
     "name": "stdin",
     "output_type": "stream",
     "text": [
      "Enter a number:  12\n",
      "Enter a number:  13\n",
      "Enter a number:  45\n",
      "Enter a number:  154\n",
      "Enter a number:  2\n"
     ]
    },
    {
     "name": "stdout",
     "output_type": "stream",
     "text": [
      "Numbers:(12, 13, 45, 154, 2)\n",
      "Largest:154\n",
      "Smallest:2\n",
      "Sum:226\n",
      "Average:45.2\n"
     ]
    }
   ],
   "source": [
    "#2.accept five number from user and store in a tuple and find largest ,smallest,sum,average\n",
    "numbers=tuple(int(input(\"Enter a number: \")) for i in range(5))\n",
    "largest=max(numbers)\n",
    "smallest=min(numbers)\n",
    "total_sum=sum(numbers)\n",
    "average=total_sum/len(numbers)\n",
    "print(f\"Numbers:{numbers}\")\n",
    "print(f\"Largest:{largest}\")\n",
    "print(f\"Smallest:{smallest}\")\n",
    "print(f\"Sum:{total_sum}\")\n",
    "print(f\"Average:{average}\")\n"
   ]
  },
  {
   "cell_type": "code",
   "execution_count": 75,
   "id": "659a0356-a6c4-4f0c-80e6-fa785b43ee89",
   "metadata": {},
   "outputs": [
    {
     "name": "stdout",
     "output_type": "stream",
     "text": [
      "Elements in set1 that are not in set2: {1, 2, 3}\n"
     ]
    }
   ],
   "source": [
    "\n",
    "#3.element in a given set that are not in another set\n",
    "set1={1, 2, 3, 4, 5}\n",
    "set2={4, 5, 6, 7, 8}\n",
    "\n",
    "def ds(set1,set2):\n",
    "    difference=set1-set2\n",
    "    return difference\n",
    "print(f\"Elements in set1 that are not in set2: {ds(set1,set2)}\")"
   ]
  },
  {
   "cell_type": "code",
   "execution_count": 7,
   "id": "aa1ea3fb-d899-4b02-92aa-1a4b1f173ba1",
   "metadata": {},
   "outputs": [
    {
     "name": "stdin",
     "output_type": "stream",
     "text": [
      "Enter the value of x:  5\n",
      "Enter the number of terms (n): 5\n"
     ]
    },
    {
     "name": "stdout",
     "output_type": "stream",
     "text": [
      "Sum of the series:840.4166666666666\n"
     ]
    }
   ],
   "source": [
    "\n",
    "#4.write a program to find the sum of following series\n",
    "    # x+ x^2/2 + x^3/3+ ....x^n/n\n",
    "\n",
    "def series_sum(x, n): #2,2\n",
    "    total=0 #0\n",
    "    for i in range(1, n + 1): #1,3\n",
    "        total+=(x ** i) / i #TOTAL = total+ (2**1)/1    | 2**2/2\n",
    "    return total\n",
    "x=float(input(\"Enter the value of x: \")) #2\n",
    "n=int(input(\"Enter the number of terms (n):\"))#2\n",
    "print(f\"Sum of the series:{series_sum(x, n)}\") #2,2\n"
   ]
  },
  {
   "cell_type": "code",
   "execution_count": 11,
   "id": "5bc5dfb4-2c95-4be2-a588-a4929fb30b8b",
   "metadata": {},
   "outputs": [
    {
     "name": "stdout",
     "output_type": "stream",
     "text": [
      "The first natural number greater than 10 is: 11\n"
     ]
    }
   ],
   "source": [
    "\n",
    "#5.write a program to find the first number greater than 10 (jumping statements)\n",
    "def f():\n",
    "    number=1 \n",
    "    while True: \n",
    "        if number>10:\n",
    "            return number\n",
    "            break\n",
    "        number+=1  \n",
    "f_n=f()\n",
    "print(f\"The first natural number greater than 10 is: {f_n}\")\n"
   ]
  },
  {
   "cell_type": "code",
   "execution_count": 15,
   "id": "9a21b23a-5e81-4a01-8ddc-1bba2d406b20",
   "metadata": {},
   "outputs": [
    {
     "name": "stdout",
     "output_type": "stream",
     "text": [
      "11\n"
     ]
    }
   ],
   "source": [
    "\n",
    "#5.write a program to find the first number greater than 10 (jumping statements)\n",
    "\n",
    "for i in range(1,20):\n",
    "    if i>10:\n",
    "        print(i)\n",
    "        break\n",
    "        "
   ]
  },
  {
   "cell_type": "code",
   "execution_count": null,
   "id": "d65a526e-dd66-4112-b242-fc5bdba8d33e",
   "metadata": {},
   "outputs": [],
   "source": []
  },
  {
   "cell_type": "code",
   "execution_count": null,
   "id": "90c5a863-4d17-447d-95af-aa6f91f37aaa",
   "metadata": {},
   "outputs": [],
   "source": []
  }
 ],
 "metadata": {
  "kernelspec": {
   "display_name": "Python 3 (ipykernel)",
   "language": "python",
   "name": "python3"
  },
  "language_info": {
   "codemirror_mode": {
    "name": "ipython",
    "version": 3
   },
   "file_extension": ".py",
   "mimetype": "text/x-python",
   "name": "python",
   "nbconvert_exporter": "python",
   "pygments_lexer": "ipython3",
   "version": "3.12.4"
  }
 },
 "nbformat": 4,
 "nbformat_minor": 5
}
