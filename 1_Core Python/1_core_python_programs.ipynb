{
 "cells": [
  {
   "cell_type": "code",
   "execution_count": 1,
   "id": "f68114c4-57ca-4cee-b6e1-b6710923d379",
   "metadata": {},
   "outputs": [
    {
     "name": "stdout",
     "output_type": "stream",
     "text": [
      "hello\n"
     ]
    }
   ],
   "source": [
    "print(\"hello\")"
   ]
  },
  {
   "cell_type": "code",
   "execution_count": 2,
   "id": "299f5737-dcc7-411d-a9e2-c8ed0feecee5",
   "metadata": {},
   "outputs": [
    {
     "name": "stdout",
     "output_type": "stream",
     "text": [
      "9\n",
      "-1\n",
      "0.8\n",
      "20\n",
      "0\n",
      "1024\n",
      "4\n"
     ]
    }
   ],
   "source": [
    "a=4\n",
    "b=5\n",
    "\n",
    "#arithmetic operators\n",
    "c=a+b\n",
    "print(c)\n",
    "print(a-b)\n",
    "print(a/b)\n",
    "print(a*b)\n",
    "print(a//b)\n",
    "print(a**b)\n",
    "print(a%b)"
   ]
  },
  {
   "cell_type": "code",
   "execution_count": 3,
   "id": "d390cb48-d802-47fb-a1fb-00ab25a9c5b3",
   "metadata": {},
   "outputs": [
    {
     "name": "stdout",
     "output_type": "stream",
     "text": [
      "the a+=b result is : 9\n",
      "the a-=b result is : 4\n",
      "the a*=b result is : 20\n",
      "the a/=b result is : 4.0\n",
      "the a%=b result is : 4.0\n",
      "the a**=b result is : 1024.0\n"
     ]
    }
   ],
   "source": [
    "#assignment operators\n",
    "a+=b\n",
    "print(\"the a+=b result is :\",a)\n",
    "a-=b\n",
    "print(\"the a-=b result is :\",a)\n",
    "a*=b\n",
    "print(\"the a*=b result is :\",a)\n",
    "a/=b\n",
    "print(\"the a/=b result is :\",a)\n",
    "a%=b\n",
    "print(\"the a%=b result is :\",a)\n",
    "a**=b\n",
    "print(\"the a**=b result is :\",a)"
   ]
  },
  {
   "cell_type": "code",
   "execution_count": 4,
   "id": "59308d6c-9491-43ab-a087-d038f03958ec",
   "metadata": {},
   "outputs": [
    {
     "name": "stdout",
     "output_type": "stream",
     "text": [
      "False\n",
      "True\n",
      "True\n",
      "False\n",
      "True\n",
      "False\n"
     ]
    }
   ],
   "source": [
    "#Relational Operators\n",
    "x=2\n",
    "y=3\n",
    "print(x==y)\n",
    "print(x!=y)\n",
    "print(x<y)\n",
    "print(x>y)\n",
    "print(x<=y)\n",
    "print(x>=y)"
   ]
  },
  {
   "cell_type": "code",
   "execution_count": 5,
   "id": "9b829cda-305e-4489-bd22-eec4cb96a224",
   "metadata": {},
   "outputs": [
    {
     "name": "stdout",
     "output_type": "stream",
     "text": [
      "False\n",
      "True\n",
      "True\n",
      "False\n"
     ]
    }
   ],
   "source": [
    "#Logical Operators\n",
    "p=2\n",
    "q=3\n",
    "print( p==2 and q==4)\n",
    "print( p==2 or q==4)\n",
    "print(not(p==3))\n",
    "print(not(p==2))"
   ]
  },
  {
   "cell_type": "code",
   "execution_count": 6,
   "id": "33d3fe66-f724-4f30-bfb3-75895996fdf5",
   "metadata": {},
   "outputs": [
    {
     "name": "stdout",
     "output_type": "stream",
     "text": [
      "False\n",
      "True\n"
     ]
    }
   ],
   "source": [
    "#identity operators\n",
    "a=2\n",
    "b=4\n",
    "print(a is b)\n",
    "print(a is not b)"
   ]
  },
  {
   "cell_type": "code",
   "execution_count": 7,
   "id": "c7a77bce-036f-4bbe-84a4-1ecdd1cf844b",
   "metadata": {},
   "outputs": [
    {
     "name": "stdout",
     "output_type": "stream",
     "text": [
      "True\n",
      "False\n",
      "False\n"
     ]
    }
   ],
   "source": [
    "#Membership operators\n",
    "a=[1,2,3]\n",
    "print(3 in a)\n",
    "print(3 not in a)\n",
    "print(4 in a)"
   ]
  },
  {
   "cell_type": "code",
   "execution_count": 8,
   "id": "163af5f7-3feb-4acb-b9aa-04890c9f0848",
   "metadata": {},
   "outputs": [
    {
     "name": "stdout",
     "output_type": "stream",
     "text": [
      "a & b is  0\n",
      "a | b is  14\n",
      "a ^ b is  14\n",
      "~ b is  -5\n",
      "a << b is  160\n",
      "a >> b is  0\n"
     ]
    }
   ],
   "source": [
    "#bitwise operators\n",
    "a=10\n",
    "b=4\n",
    "print(\"a & b is \",a & b)\n",
    "print(\"a | b is \",a | b)\n",
    "print(\"a ^ b is \",a ^ b)\n",
    "print(\"~ b is \", ~ b)\n",
    "print(\"a << b is \",a << b)\n",
    "print(\"a >> b is \",a >> b)"
   ]
  },
  {
   "cell_type": "code",
   "execution_count": 9,
   "id": "7c2e2e5c-2c69-4133-b39a-53d4d916bb8d",
   "metadata": {},
   "outputs": [
    {
     "name": "stdin",
     "output_type": "stream",
     "text": [
      "enter first number: 2\n",
      "enter second number: 2\n"
     ]
    },
    {
     "name": "stdout",
     "output_type": "stream",
     "text": [
      "4\n",
      "0\n",
      "1.0\n",
      "4\n",
      "1\n",
      "4\n",
      "0\n",
      "the a+=b result is : 4\n",
      "the a-=b result is : 2\n",
      "the a*=b result is : 4\n",
      "the a/=b result is : 2.0\n",
      "the a%=b result is : 0.0\n",
      "the a**=b result is : 0.0\n"
     ]
    }
   ],
   "source": [
    "#user input\n",
    "a=int(input(\"enter first number:\"))\n",
    "b=int(input(\"enter second number:\"))\n",
    "\n",
    "\n",
    "#arithmetic operators\n",
    "c=a+b\n",
    "print(c)\n",
    "print(a-b)\n",
    "print(a/b)\n",
    "print(a*b)\n",
    "print(a//b)\n",
    "print(a**b)\n",
    "print(a%b)\n",
    "\n",
    "#assignment operator\n",
    "a+=b\n",
    "print(\"the a+=b result is :\",a)\n",
    "a-=b\n",
    "print(\"the a-=b result is :\",a)\n",
    "a*=b\n",
    "print(\"the a*=b result is :\",a)\n",
    "a/=b\n",
    "print(\"the a/=b result is :\",a)\n",
    "a%=b\n",
    "print(\"the a%=b result is :\",a)\n",
    "a**=b\n",
    "print(\"the a**=b result is :\",a)"
   ]
  },
  {
   "cell_type": "code",
   "execution_count": 10,
   "id": "bc57e08c-f1c4-4cff-a3cf-b2f282779bef",
   "metadata": {},
   "outputs": [
    {
     "name": "stdin",
     "output_type": "stream",
     "text": [
      "enter first number: 3\n",
      "enter second number: 5\n",
      "enter third number: 54\n"
     ]
    },
    {
     "name": "stdout",
     "output_type": "stream",
     "text": [
      "average of these numbers is: 20.666666666666668\n"
     ]
    }
   ],
   "source": [
    "#average of numbers\n",
    "a=int(input(\"enter first number:\"))\n",
    "b=int(input(\"enter second number:\"))\n",
    "c=int(input(\"enter third number:\"))\n",
    "average=(a+b+c)/3\n",
    "print(\"average of these numbers is:\",average)\n"
   ]
  },
  {
   "cell_type": "code",
   "execution_count": 11,
   "id": "03577462-772c-423d-b2c3-41d646ee0dc4",
   "metadata": {},
   "outputs": [
    {
     "data": {
      "text/plain": [
       "float"
      ]
     },
     "execution_count": 11,
     "metadata": {},
     "output_type": "execute_result"
    }
   ],
   "source": [
    "type(average)"
   ]
  },
  {
   "cell_type": "code",
   "execution_count": 12,
   "id": "a79e7f97-efef-48a1-affa-1c7a13338f65",
   "metadata": {},
   "outputs": [
    {
     "name": "stdin",
     "output_type": "stream",
     "text": [
      "enter anything here 2\n"
     ]
    },
    {
     "name": "stdout",
     "output_type": "stream",
     "text": [
      "2\n"
     ]
    },
    {
     "data": {
      "text/plain": [
       "str"
      ]
     },
     "execution_count": 12,
     "metadata": {},
     "output_type": "execute_result"
    }
   ],
   "source": [
    "a=input(\"enter anything here\")\n",
    "print(a)\n",
    "type(a)"
   ]
  },
  {
   "cell_type": "code",
   "execution_count": 13,
   "id": "df094eee-bdfe-4294-89a2-05195ecbb9c5",
   "metadata": {},
   "outputs": [
    {
     "name": "stdin",
     "output_type": "stream",
     "text": [
      "type radius of circle 1\n"
     ]
    },
    {
     "name": "stdout",
     "output_type": "stream",
     "text": [
      "area of circle is: 3.14 sq units\n",
      "circumference of circle is : 6.28 sq units\n"
     ]
    }
   ],
   "source": [
    "#area of circle \n",
    "radius=int(input(\"type radius of circle\"))\n",
    "area=3.14*radius**2\n",
    "print(\"area of circle is:\",area,\"sq units\")\n",
    "#circumference of circle\n",
    "circumference=2*3.14*radius\n",
    "print(\"circumference of circle is :\",circumference,\"sq units\")"
   ]
  },
  {
   "cell_type": "code",
   "execution_count": 14,
   "id": "784c4f7e-e370-44aa-bc63-8cbf56e23684",
   "metadata": {},
   "outputs": [
    {
     "name": "stdin",
     "output_type": "stream",
     "text": [
      "enter length of rectangle 5\n",
      "enter width of rectangle 6\n"
     ]
    },
    {
     "name": "stdout",
     "output_type": "stream",
     "text": [
      "area of rectangle is : 30\n",
      "===========================================\n"
     ]
    },
    {
     "name": "stdin",
     "output_type": "stream",
     "text": [
      "enter side of square 4\n"
     ]
    },
    {
     "name": "stdout",
     "output_type": "stream",
     "text": [
      "area of square is : 16\n"
     ]
    }
   ],
   "source": [
    "#area of rectangle\n",
    "length=int(input(\"enter length of rectangle\"))\n",
    "width=int(input(\"enter width of rectangle\"))\n",
    "r_area=length*width\n",
    "print(\"area of rectangle is :\",r_area)\n",
    "print(\"===========================================\")\n",
    "\n",
    "#area of square\n",
    "side=int(input(\"enter side of square\"))\n",
    "#s_area=side*side\n",
    "s_area=side**2\n",
    "print(\"area of square is :\",s_area)"
   ]
  },
  {
   "cell_type": "code",
   "execution_count": 15,
   "id": "5319e253-5765-4cf8-bada-7713416f7e50",
   "metadata": {},
   "outputs": [
    {
     "name": "stdin",
     "output_type": "stream",
     "text": [
      "enter your name: 7\n",
      "enter obtained mark1: 5\n",
      "enter obtained mark2: 6\n",
      "enter grand total mark: 1\n"
     ]
    },
    {
     "name": "stdout",
     "output_type": "stream",
     "text": [
      "7 your percentage is 1100.0\n"
     ]
    }
   ],
   "source": [
    "#find percentage of mark\n",
    "name=input(\"enter your name:\")\n",
    "mark1=int(input(\"enter obtained mark1:\"))\n",
    "mark2=int(input(\"enter obtained mark2:\"))\n",
    "total=int(input(\"enter grand total mark:\"))\n",
    "\n",
    "#obtained=mark1+mark2\n",
    "#percentage=(obtained/total)*100\n",
    "\n",
    "percentage=((mark1+mark2)/total)*100\n",
    "\n",
    "print(name,\"your percentage is\",percentage)"
   ]
  },
  {
   "cell_type": "code",
   "execution_count": 16,
   "id": "f6319ef9-575a-4444-bc27-03f9a8c73afc",
   "metadata": {},
   "outputs": [
    {
     "name": "stdin",
     "output_type": "stream",
     "text": [
      "enter base of triangle 2\n",
      "enter height of triangle 3\n"
     ]
    },
    {
     "name": "stdout",
     "output_type": "stream",
     "text": [
      "Area of triangle is : 3.0\n"
     ]
    }
   ],
   "source": [
    "#area of triangle\n",
    "base=int(input(\"enter base of triangle\"))\n",
    "height=int(input(\"enter height of triangle\"))\n",
    "t_area=0.5*base*height\n",
    "print(\"Area of triangle is :\",t_area)"
   ]
  },
  {
   "cell_type": "code",
   "execution_count": 17,
   "id": "2d40701f-e1b4-4bae-961a-7ad7f7238c43",
   "metadata": {},
   "outputs": [
    {
     "name": "stdin",
     "output_type": "stream",
     "text": [
      "enter distance: 4\n",
      "enter time: 5\n"
     ]
    },
    {
     "name": "stdout",
     "output_type": "stream",
     "text": [
      "the speed is : 0.8 m/s\n"
     ]
    }
   ],
   "source": [
    "#find speed\n",
    "distance=int(input(\"enter distance:\"))\n",
    "time=int(input(\"enter time:\"))\n",
    "speed=distance/time\n",
    "print(\"the speed is :\",speed,\"m/s\")"
   ]
  },
  {
   "cell_type": "code",
   "execution_count": 18,
   "id": "7b114833-b4ad-43e1-99ad-3c41c07dd82c",
   "metadata": {},
   "outputs": [
    {
     "name": "stdin",
     "output_type": "stream",
     "text": [
      "enter temperature in celsius: 56\n"
     ]
    },
    {
     "name": "stdout",
     "output_type": "stream",
     "text": [
      "the celsius temperature is : 56 degree celsius.and converted to farenheit is: 132.8 F\n"
     ]
    },
    {
     "name": "stdin",
     "output_type": "stream",
     "text": [
      "enter temperature in farenheit: 54\n"
     ]
    },
    {
     "name": "stdout",
     "output_type": "stream",
     "text": [
      "the Farenheit temperature is : 54 F.and converted to celsius is: 12.222222222222223 degree celsius\n"
     ]
    }
   ],
   "source": [
    "#Celsius to Farenheit\n",
    "celsius=int(input(\"enter temperature in celsius:\"))\n",
    "convert_farenheit=(celsius*9/5)+32\n",
    "print(\"the celsius temperature is :\",celsius,\"degree celsius.and converted to farenheit is:\",convert_farenheit,\"F\")\n",
    "\n",
    "\n",
    "#Farenheit to Celsius\n",
    "farenheit=int(input(\"enter temperature in farenheit:\"))\n",
    "convert_celsius=(farenheit-32)*(5/9)\n",
    "print(\"the Farenheit temperature is :\",farenheit,\"F.and converted to celsius is:\",convert_celsius,\"degree celsius\")"
   ]
  },
  {
   "cell_type": "code",
   "execution_count": 19,
   "id": "64756b75-d31f-4619-93b3-61023165a2c3",
   "metadata": {},
   "outputs": [
    {
     "name": "stdout",
     "output_type": "stream",
     "text": [
      "length of string Nimisha  is : 7\n"
     ]
    },
    {
     "name": "stdin",
     "output_type": "stream",
     "text": [
      "enter your location 4\n"
     ]
    },
    {
     "name": "stdout",
     "output_type": "stream",
     "text": [
      "length of string 4 is: 1\n",
      "<Note:empty space will be taken as a character>\n"
     ]
    }
   ],
   "source": [
    "#String functions\n",
    "\n",
    "#len()\n",
    "name=\"Nimisha\"\n",
    "print(\"length of string\",name,\" is :\",len(name))\n",
    "location=input(\"enter your location\")\n",
    "print(\"length of string\",location,\"is:\",len(location))\n",
    "print(\"<Note:empty space will be taken as a character>\")\n"
   ]
  },
  {
   "cell_type": "code",
   "execution_count": 37,
   "id": "58faa607-e95c-40a0-9fd0-65a7006b1b71",
   "metadata": {},
   "outputs": [
    {
     "name": "stdin",
     "output_type": "stream",
     "text": [
      "enter your message hello\n",
      "enter the index position you want to retreive 2\n"
     ]
    },
    {
     "name": "stdout",
     "output_type": "stream",
     "text": [
      "the value in the index 2 is: l\n",
      "=====================================================================\n"
     ]
    },
    {
     "name": "stdin",
     "output_type": "stream",
     "text": [
      "enter the second index position you want to retreive 1\n"
     ]
    },
    {
     "name": "stdout",
     "output_type": "stream",
     "text": [
      "the value in the index 2 : 1 is: \n",
      "<Note:the string will displayed from index to (index2-1)>\n",
      "=====================================================================\n"
     ]
    },
    {
     "name": "stdin",
     "output_type": "stream",
     "text": [
      "enter the negative index position you want to retreive 1\n"
     ]
    },
    {
     "name": "stdout",
     "output_type": "stream",
     "text": [
      "the value in the negative index 1 is: e\n",
      "<Note:the negative indexing starts from -1 and retrieve last letter\n",
      "=====================================================================\n"
     ]
    },
    {
     "name": "stdin",
     "output_type": "stream",
     "text": [
      "enter the second negative index position you want to retreive 1\n"
     ]
    },
    {
     "name": "stdout",
     "output_type": "stream",
     "text": [
      "the value in the index 1 : 1 is: \n",
      "<Note:the string will displayed from index3 to (index4-1) and index3 must be smaller number>\n"
     ]
    }
   ],
   "source": [
    "#Indexing\n",
    "#forward indexing\n",
    "message=input(\"enter your message\")\n",
    "index=int(input(\"enter the index position you want to retreive\"))\n",
    "print(\"the value in the index\",index,\"is:\",message[index])\n",
    "print(\"=====================================================================\")\n",
    "index2=int(input(\"enter the second index position you want to retreive\"))\n",
    "print(\"the value in the index\",index,\":\",index2,\"is:\",message[index:index2])\n",
    "print(\"<Note:the string will displayed from index to (index2-1)>\")\n",
    "print(\"=====================================================================\")\n",
    "\n",
    "#backward indexing\n",
    "index3=int(input(\"enter the negative index position you want to retreive\"))\n",
    "print(\"the value in the negative index\",index3,\"is:\",message[index3])\n",
    "print(\"<Note:the negative indexing starts from -1 and retrieve last letter\")\n",
    "print(\"=====================================================================\")\n",
    "index4=int(input(\"enter the second negative index position you want to retreive\"))\n",
    "print(\"the value in the index\",index3,\":\",index4,\"is:\",message[index3:index4])\n",
    "print(\"<Note:the string will displayed from index3 to (index4-1) and index3 must be smaller number>\")"
   ]
  },
  {
   "cell_type": "code",
   "execution_count": 39,
   "id": "8495da64-3408-488b-9706-04e422a88455",
   "metadata": {},
   "outputs": [
    {
     "name": "stdin",
     "output_type": "stream",
     "text": [
      "enter value hello\n",
      "enter index 2\n"
     ]
    },
    {
     "name": "stdout",
     "output_type": "stream",
     "text": [
      "the value in the position 2 is: e\n"
     ]
    }
   ],
   "source": [
    "value=input(\"enter value\")\n",
    "index=int(input(\"enter index\"))\n",
    "print(\"the value in the position\",index,\"is:\",value[index-1])"
   ]
  },
  {
   "cell_type": "code",
   "execution_count": 40,
   "id": "a5608fb5-b5e0-440a-baa7-f401907b5264",
   "metadata": {},
   "outputs": [
    {
     "name": "stdout",
     "output_type": "stream",
     "text": [
      "i\n",
      "is\n",
      "isha\n",
      "Nimis\n",
      "s\n",
      "mi\n",
      "sha\n",
      "Ni\n"
     ]
    }
   ],
   "source": [
    "#slicing\n",
    "name=\"Nimisha\"\n",
    "print(name[3])\n",
    "print(name[3:5])\n",
    "print(name[3:])\n",
    "print(name[:5])\n",
    "print(name[-3])\n",
    "print(name[-5:-3])\n",
    "print(name[-3:])\n",
    "print(name[:-5])"
   ]
  },
  {
   "cell_type": "code",
   "execution_count": 41,
   "id": "28a85f8c-5e6c-49f8-8252-c50d3a193146",
   "metadata": {},
   "outputs": [
    {
     "name": "stdin",
     "output_type": "stream",
     "text": [
      "enter your firstname n\n",
      "enter your lastname s\n"
     ]
    },
    {
     "name": "stdout",
     "output_type": "stream",
     "text": [
      "My name is : n s\n",
      "n sn sn s\n"
     ]
    }
   ],
   "source": [
    "#Concatenation\n",
    "first_name=input(\"enter your firstname\")\n",
    "last_name=input(\"enter your lastname\")\n",
    "fullname=first_name+\" \"+last_name\n",
    "print(\"My name is :\",fullname)\n",
    "print(fullname*3)"
   ]
  },
  {
   "cell_type": "code",
   "execution_count": 42,
   "id": "0e3277af-2368-490d-ba65-14d377700067",
   "metadata": {},
   "outputs": [
    {
     "name": "stdout",
     "output_type": "stream",
     "text": [
      "Hello, world!\n"
     ]
    }
   ],
   "source": [
    "#Captialize\n",
    "text = \"hello, World!\"\n",
    "print(text.capitalize())"
   ]
  },
  {
   "cell_type": "code",
   "execution_count": 43,
   "id": "e629a567-87fa-45e1-b632-c128e557d643",
   "metadata": {},
   "outputs": [
    {
     "name": "stdout",
     "output_type": "stream",
     "text": [
      "straße\n",
      "strasse\n"
     ]
    }
   ],
   "source": [
    "#casefold() and lower()\n",
    "text = \"Straße\"\n",
    "print(text.lower())    # Output: \"straße\"\n",
    "print(text.casefold())  # Output: \"strasse\"\n",
    "#In this example, casefold() converts the German character \"ß\" into \"ss,\" \n",
    "#which is more appropriate for case-insensitive comparisons. \n",
    "#This makes casefold() the preferred method when you need to perform robust \n",
    "#and accurate case-insensitive string comparisons."
   ]
  },
  {
   "cell_type": "code",
   "execution_count": 44,
   "id": "5557e6e1-03b1-4821-bff1-33de370ca56b",
   "metadata": {},
   "outputs": [
    {
     "name": "stdout",
     "output_type": "stream",
     "text": [
      "2\n"
     ]
    }
   ],
   "source": [
    "#count\n",
    "text = \"Hello, World!\"\n",
    "print(text.count(\"o\")) "
   ]
  },
  {
   "cell_type": "code",
   "execution_count": 45,
   "id": "252aed88-d0c9-42bb-9cf1-6db8af95244b",
   "metadata": {},
   "outputs": [
    {
     "name": "stdout",
     "output_type": "stream",
     "text": [
      "2\n"
     ]
    }
   ],
   "source": [
    "#find\n",
    "text = \"Hello, World!\"\n",
    "print(text.find(\"llo\"))"
   ]
  },
  {
   "cell_type": "code",
   "execution_count": 46,
   "id": "5c7129fb-39e1-4529-ac32-d09efd55c9f9",
   "metadata": {},
   "outputs": [
    {
     "name": "stdout",
     "output_type": "stream",
     "text": [
      "True\n",
      "False\n",
      "False\n",
      "True\n"
     ]
    }
   ],
   "source": [
    "#isdigit\n",
    "text1 = \"12345\"\n",
    "print(text1.isdigit())  \n",
    "\n",
    "text2 = \"12345abc\"\n",
    "print(text2.isdigit())  \n",
    "\n",
    "text3 = \"123.45\"\n",
    "print(text3.isdigit())  \n",
    "\n",
    "text4 = \"²³\"\n",
    "print(text4.isdigit())  \n"
   ]
  },
  {
   "cell_type": "code",
   "execution_count": 47,
   "id": "c7eef420-1e2a-4530-a194-9e0a1024a25a",
   "metadata": {},
   "outputs": [
    {
     "name": "stdout",
     "output_type": "stream",
     "text": [
      "True\n",
      "False\n",
      "True\n",
      "False\n",
      "False\n"
     ]
    }
   ],
   "source": [
    "#isalnum\n",
    "text1 = \"Hello123\"\n",
    "print(text1.isalnum())  \n",
    "\n",
    "text2 = \"Hello 123\"\n",
    "print(text2.isalnum())  \n",
    "\n",
    "text3 = \"12345\"\n",
    "print(text3.isalnum())  \n",
    "\n",
    "text4 = \"Hello!\"\n",
    "print(text4.isalnum())  \n",
    "\n",
    "text5 = \"\"\n",
    "print(text5.isalnum())  \n"
   ]
  },
  {
   "cell_type": "code",
   "execution_count": 48,
   "id": "8d0f0d52-de8d-4f44-8790-bed6b163f8b0",
   "metadata": {},
   "outputs": [
    {
     "name": "stdout",
     "output_type": "stream",
     "text": [
      "True\n",
      "False\n",
      "True\n",
      "False\n",
      "True\n"
     ]
    }
   ],
   "source": [
    "#islower\n",
    "text1 = \"hello world\"\n",
    "print(text1.islower())  \n",
    "\n",
    "text2 = \"Hello World\"\n",
    "print(text2.islower())  \n",
    "\n",
    "text3 = \"hello123\"\n",
    "print(text3.islower())  \n",
    "\n",
    "text4 = \"12345\"\n",
    "print(text4.islower())  \n",
    "\n",
    "text5 = \"hello!\"\n",
    "print(text5.islower())  \n"
   ]
  },
  {
   "cell_type": "code",
   "execution_count": 49,
   "id": "4e18e274-c86b-4fd0-a5f3-e08eb89b923b",
   "metadata": {},
   "outputs": [
    {
     "name": "stdout",
     "output_type": "stream",
     "text": [
      "hello, world!\n",
      "HELLO, WORLD!\n"
     ]
    }
   ],
   "source": [
    "#lower ,upper\n",
    "text = \"Hello, World!\"\n",
    "print(text.lower())  \n",
    "text = \"Hello, World!\"\n",
    "print(text.upper())  \n"
   ]
  },
  {
   "cell_type": "code",
   "execution_count": 50,
   "id": "1a8d1045-42b7-4ec6-bfb7-e91c83a8881b",
   "metadata": {},
   "outputs": [
    {
     "name": "stdout",
     "output_type": "stream",
     "text": [
      "Hello, World!\n"
     ]
    }
   ],
   "source": [
    "#strip : Removes leading and trailing whitespace from the string.\n",
    "text = \"   Hello, World!   \"\n",
    "print(text.strip())  \n"
   ]
  },
  {
   "cell_type": "code",
   "execution_count": 51,
   "id": "3b6a2f92-d079-4309-9ab1-18a1224905a2",
   "metadata": {},
   "outputs": [
    {
     "name": "stdout",
     "output_type": "stream",
     "text": [
      "Hello, Python!\n"
     ]
    }
   ],
   "source": [
    "#replace() : Replaces occurrences of a substring with another substring.\n",
    "text = \"Hello, World!\"\n",
    "print(text.replace(\"World\", \"Python\"))  \n"
   ]
  },
  {
   "cell_type": "code",
   "execution_count": 52,
   "id": "b235a9a4-42bc-461d-879d-eaa44d3b2348",
   "metadata": {},
   "outputs": [
    {
     "name": "stdout",
     "output_type": "stream",
     "text": [
      "['Hello', ' World!']\n"
     ]
    }
   ],
   "source": [
    "#split() : Splits the string into a list of substrings based on a delimiter.\n",
    "text = \"Hello, World!\"\n",
    "print(text.split(\",\"))  "
   ]
  },
  {
   "cell_type": "code",
   "execution_count": 53,
   "id": "eb98f65f-f4fc-4469-9dd1-d2dc51e84502",
   "metadata": {},
   "outputs": [
    {
     "name": "stdout",
     "output_type": "stream",
     "text": [
      "Hello World\n"
     ]
    }
   ],
   "source": [
    "#join() :Joins elements of a list into a single string, using a specified separator.\n",
    "words = [\"Hello\", \"World\"]\n",
    "print(\" \".join(words))  \n"
   ]
  },
  {
   "cell_type": "code",
   "execution_count": 54,
   "id": "e38086bf-0e15-4f76-821a-63d30a09c40b",
   "metadata": {},
   "outputs": [
    {
     "name": "stdout",
     "output_type": "stream",
     "text": [
      "True\n"
     ]
    }
   ],
   "source": [
    "#startswith() : Checks if the string starts with a specified prefix.\n",
    "text = \"Hello, World!\"\n",
    "print(text.startswith(\"Hello\"))  \n"
   ]
  },
  {
   "cell_type": "code",
   "execution_count": 55,
   "id": "b9a51203-499a-4dcb-8202-dd9fc429e254",
   "metadata": {},
   "outputs": [
    {
     "name": "stdout",
     "output_type": "stream",
     "text": [
      "True\n"
     ]
    }
   ],
   "source": [
    "#endswith() : Checks if the string ends with a specified suffix.\n",
    "text = \"Hello, World!\"\n",
    "print(text.endswith(\"!\"))  "
   ]
  },
  {
   "cell_type": "code",
   "execution_count": 56,
   "id": "bcbcab55-4e92-4219-b73c-a390166d0fa7",
   "metadata": {},
   "outputs": [
    {
     "name": "stdout",
     "output_type": "stream",
     "text": [
      "Hello, World!\n"
     ]
    }
   ],
   "source": [
    "#title() :Capitalizes the first character of each word in the string.\n",
    "text = \"hello, world!\"\n",
    "print(text.title())  \n"
   ]
  },
  {
   "cell_type": "code",
   "execution_count": 57,
   "id": "bc90aaba-2789-4739-bf78-97bb5dfb3575",
   "metadata": {},
   "outputs": [
    {
     "name": "stdout",
     "output_type": "stream",
     "text": [
      "Hello, Python!\n"
     ]
    }
   ],
   "source": [
    "#format() :Formats specified values in a string.\n",
    "text = \"Hello, {}!\"\n",
    "print(text.format(\"Python\"))  \n"
   ]
  },
  {
   "cell_type": "code",
   "execution_count": 58,
   "id": "d30ac59c-b392-42d5-a725-080685b3141d",
   "metadata": {},
   "outputs": [
    {
     "name": "stdout",
     "output_type": "stream",
     "text": [
      "True\n",
      "False\n"
     ]
    }
   ],
   "source": [
    "#isnumeric() :Checks if all characters in the string are numeric.\n",
    "text = \"12345\"\n",
    "print(text.isnumeric())  \n",
    "\n",
    "text = \"12345abc\"\n",
    "print(text.isnumeric())  "
   ]
  },
  {
   "cell_type": "code",
   "execution_count": 59,
   "id": "5a77dc06-2935-4a0e-9ca2-9bf2d06216f1",
   "metadata": {},
   "outputs": [
    {
     "name": "stdout",
     "output_type": "stream",
     "text": [
      "[1, 2, 3]\n",
      "['hello', 'all']\n",
      "[1, 2.3, 'a', 'hello', True]\n",
      "2.3\n",
      "True\n",
      "[2.3, 'a']\n",
      "['w', 'e', 'l', 'c', 'o', 'm', 'e', ' ', 'a', 'l', 'l']\n",
      "['nimisha', 'hello', 'davis']\n"
     ]
    }
   ],
   "source": [
    "#Data types - List\n",
    "list_a=[1,2,3]\n",
    "print(list_a)\n",
    "list_b=[\"hello\",\"all\"]\n",
    "print(list_b)\n",
    "list_c=[1,2.3,'a',\"hello\",True]\n",
    "print(list_c)\n",
    "print(list_c[1])\n",
    "print(list_c[-1])\n",
    "print(list_c[1:3])\n",
    "\n",
    "#list()\n",
    "msg=\"welcome all\"\n",
    "print(list(msg))\n",
    "\n",
    "#manipulation\n",
    "list_d=[\"nimisha\",\"nisa\",\"davis\"]\n",
    "list_d[1]=\"hello\"\n",
    "print(list_d)"
   ]
  },
  {
   "cell_type": "code",
   "execution_count": 60,
   "id": "2020c371-beaf-4127-a791-8c6c732dc54a",
   "metadata": {},
   "outputs": [
    {
     "name": "stdout",
     "output_type": "stream",
     "text": [
      "[1, 2, 3, 4, 5, 2, 5, 4, 2, 2, 3, 4, 2, 3]\n",
      "[1, 2, 3, 4, 5, 2, 5, 4, 2, 2, 3, 4, 2, 3, 6]\n",
      "[1, 2, 3, 4, 5, 2, 5, 4, 2, 2, 3, 4, 2, 3, 6]\n",
      "[]\n",
      "5\n",
      "[1, 2, 2, 2, 2, 2, 3, 3, 3, 4, 4, 4, 5, 5, 6]\n",
      "[6, 5, 5, 4, 4, 4, 3, 3, 3, 2, 2, 2, 2, 2, 1]\n",
      "[1, 2, 'hi', 3, 4]\n"
     ]
    }
   ],
   "source": [
    "# other list functions\n",
    "list_e=[1,2,3,4,5,2,5,4,2,2,3,4,2,3]\n",
    "print(list_e)\n",
    "list_e.append(6) #add at last\n",
    "print(list_e)\n",
    "list_f=list_e.copy() #copy list\n",
    "print(list_f)\n",
    "list_f.clear() #clear list\n",
    "print(list_f)\n",
    "print(list_e.count(2)) #returns count of particular value\n",
    "list_e.sort() #sort list\n",
    "print(list_e)\n",
    "list_e.sort(reverse=True) #sort list in reverse\n",
    "print(list_e)\n",
    "list_z=[1,2,3,4]\n",
    "list_z.insert(2,\"hi\")\n",
    "print(list_z)\n"
   ]
  },
  {
   "cell_type": "code",
   "execution_count": 61,
   "id": "92b085df-9f59-4f81-b846-5b803acb9771",
   "metadata": {},
   "outputs": [
    {
     "name": "stdout",
     "output_type": "stream",
     "text": [
      "(1, 2, 3, 4, 5, 2, 3, 'hi')\n",
      "3\n",
      "3\n",
      "(3, 4)\n",
      "2\n",
      "7\n"
     ]
    }
   ],
   "source": [
    "#Tuple\n",
    "tuple_t=(1,2,3,4,5,2,3,\"hi\")\n",
    "print(tuple_t)\n",
    "print(tuple_t[2])\n",
    "print(tuple_t[-2])\n",
    "print(tuple_t[2:4])\n",
    "print(tuple_t.count(2))#count of particular value\n",
    "print(tuple_t.index(\"hi\"))# find index position"
   ]
  },
  {
   "cell_type": "code",
   "execution_count": 62,
   "id": "847c88dd-8c31-45bd-a247-661ccf979b4c",
   "metadata": {},
   "outputs": [
    {
     "name": "stdout",
     "output_type": "stream",
     "text": [
      "3\n",
      "1\n",
      "3\n",
      "6\n",
      "[1, 2, 3]\n",
      "(1, 2, 3)\n",
      "True\n",
      "True\n"
     ]
    }
   ],
   "source": [
    "#Task - Other Tuple functions\n",
    "t = (1, 2, 3)\n",
    "print(len(t))  # Returns the length of the tuple.\n",
    "\n",
    "t = (1, 2, 3)\n",
    "print(min(t))  # Returns the smallest element in the tuple.\n",
    "\n",
    "t = (1, 2, 3)\n",
    "print(max(t))  # Returns the largest element in the tuple.\n",
    "\n",
    "t = (1, 2, 3)\n",
    "print(sum(t))  # Returns the sum of all elements in the tuple.\n",
    "\n",
    "t = (3, 1, 2)\n",
    "print(sorted(t))  # Returns a sorted list of the tuple's elements.\n",
    "\n",
    "l = [1, 2, 3]\n",
    "t = tuple(l)\n",
    "print(t)  # Converts list into a tuple.\n",
    "\n",
    "t = (0, False, True)\n",
    "print(any(t))  # Returns True if at least one element in the tuple is True.\n",
    "\n",
    "t = (1, True, 3)\n",
    "print(all(t))  # Returns True if all elements in the tuple are True.\n"
   ]
  },
  {
   "cell_type": "code",
   "execution_count": 63,
   "id": "2be90a92-532c-4522-a5ab-fd9539cfe50f",
   "metadata": {},
   "outputs": [
    {
     "name": "stdout",
     "output_type": "stream",
     "text": [
      "[1, 2, 3, 4, 5]\n",
      "[1, 3, 2]\n",
      "3\n",
      "[1, 2]\n",
      "1\n",
      "[3, 2, 1]\n"
     ]
    }
   ],
   "source": [
    "#Task - Other list functions\n",
    "l1 = [1, 2, 3]\n",
    "l2 = [4, 5]\n",
    "l1.extend(l2)\n",
    "print(l1)  # Extends the list by appending elements from another list.\n",
    "\n",
    "l = [1, 2, 3, 2]\n",
    "l.remove(2)\n",
    "print(l)  #  Removes the first occurrence of a specified element.\n",
    "\n",
    "l = [1, 2, 3]\n",
    "print(l.pop())  # Output: 3\n",
    "print(l)  # Removes and returns the element at the specified position (or last element if no position is specified).\n",
    "\n",
    "l = [1, 2, 3]\n",
    "print(l.index(2))  # Returns the index of the first occurrence of a specified element.\n",
    "\n",
    "l = [1, 2, 3]\n",
    "l.reverse()\n",
    "print(l)  # Reverses the elements of the list."
   ]
  },
  {
   "cell_type": "code",
   "execution_count": 64,
   "id": "55c88c46-9314-4ec3-9866-f812cb7bffb1",
   "metadata": {},
   "outputs": [
    {
     "name": "stdout",
     "output_type": "stream",
     "text": [
      "94\n",
      "Not Found\n",
      "dict_keys(['nimisha', 'nisa', 'sha'])\n",
      "dict_values([98, 94, 99])\n",
      "dict_items([('nimisha', 98), ('nisa', 94), ('sha', 99)])\n",
      "{'mini': 48, 'davis': 64, 'fendro': 49}\n",
      "48\n",
      "{'davis': 64, 'fendro': 49}\n",
      "{'flenil': 18, 'femi': 45, 'flemi': 79}\n",
      "('flemi', 79)\n",
      "{'flenil': 18, 'femi': 45}\n",
      "{'flenil': 18, 'femi': 45, 'c': 3, 'd': 4}\n",
      "{}\n",
      "{'a': 'x', 'b': 'x', 'c': 'x'}\n",
      "1\n",
      "{'a': 1, 'b': 2}\n",
      "10\n",
      "{'a': 1, 'b': 2, 'c': 10}\n"
     ]
    }
   ],
   "source": [
    "#Dictionary\n",
    "marks1={\"nimisha\":98,\"nisa\":94,\"sha\":99}\n",
    "marks2={\"mini\":48,\"davis\":64,\"fendro\":49}\n",
    "marks3={\"flenil\":18,\"femi\":45,\"flemi\":79}\n",
    "\n",
    "# Returns the value for the specified key if the key is in the dictionary; otherwise, returns a default value\n",
    "print(marks1.get(\"nisa\"))  \n",
    "print(marks1.get(\"test\", \"Not Found\")) \n",
    "\n",
    "#a list of all the keys in the dictionary.\n",
    "print(marks1.keys()) \n",
    "\n",
    "#a list of all the values in the dictionary.\n",
    "print(marks1.values()) \n",
    "\n",
    "#a list of all the key-value pairs in the dictionary as tuples.\n",
    "print(marks1.items()) \n",
    "\n",
    "#Removes the item with the specified key and returns its value. If the key is not found, it returns a default value if provided.\n",
    "print(marks2)\n",
    "print(marks2.pop(\"mini\")) \n",
    "print(marks2)\n",
    "\n",
    "#Removes and returns the last key-value pair as a tuple. Raises a KeyError if the dictionary is empty.\n",
    "print(marks3)\n",
    "print(marks3.popitem()) \n",
    "print(marks3)\n",
    "\n",
    "#Updates the dictionary with the key-value pairs from another dictionary or an iterable of key-value pairs.\n",
    "marks3.update({\"c\": 3, \"d\": 4})\n",
    "print(marks3)\n",
    "\n",
    "#Removes all items from the dictionary.\n",
    "marks3.clear()\n",
    "print(marks3)\n",
    "\n",
    "#fromkeys()\n",
    "dict_1={\"a\":1,\"b\":2,\"c\":3}\n",
    "dict_2=dict_1.fromkeys(dict_1,'x')\n",
    "print(dict_2)\n",
    "\n",
    "#The setdefault() method in Python is used with dictionaries. It retrieves the value of a specified key in a dictionary. \n",
    "#If the key is not present, it inserts the key with a specified value and returns that value. \n",
    "#If the key is already present, it returns the existing value without altering the dictionary.\n",
    "my_dict = {'a': 1, 'b': 2}\n",
    "result = my_dict.setdefault('a')\n",
    "print(result)  # Output: 1\n",
    "print(my_dict) # Output: {'a': 1, 'b': 2}\n",
    "\n",
    "my_dict = {'a': 1, 'b': 2}\n",
    "result = my_dict.setdefault('c', 10)\n",
    "print(result)  # Output: 10\n",
    "print(my_dict) # Output: {'a': 1, 'b': 2, 'c': 10}\n",
    "#Since 'c' is not present, setdefault() inserts 'c' with the value 10 and returns 10."
   ]
  },
  {
   "cell_type": "code",
   "execution_count": 65,
   "id": "6a10d7d0-085a-4d6f-9b4f-59374fb24b7f",
   "metadata": {},
   "outputs": [
    {
     "name": "stdout",
     "output_type": "stream",
     "text": [
      "{1, 2, 3, 4, 5}\n",
      "{1, 2, 3, 4, 5, 'hi'}\n",
      "{1, 2, 3, 4, 5, 10, 'hi'}\n",
      "{1, 2}\n",
      "{1, 2, 4}\n",
      "{3, 4}\n",
      "True\n",
      "True\n",
      "True\n",
      "1\n",
      "{2, 3, 4}\n",
      "{1, 2, 4}\n",
      "{1, 2, 4, 5}\n",
      "{1, 2, 3, 4, 5}\n",
      "{1, 2, 3, 4, 5}\n",
      "set()\n"
     ]
    }
   ],
   "source": [
    "#set\n",
    "#Creating a Set from a List\n",
    "my_list = [1, 2, 3, 4, 4, 5]\n",
    "my_set = set(my_list)\n",
    "print(my_set) \n",
    "\n",
    "set1={1,2,3,4,5,2,3,4,\"hi\"}\n",
    "print(set1)\n",
    "\n",
    "#Adding Elements to a Set\n",
    "set1.add(10)\n",
    "print(set1)  \n",
    "\n",
    "#Returns a new set with elements that are in the calling set but not in the other set(s).\n",
    "set1 = {1, 2, 3, 4}\n",
    "set2 = {3, 4, 5}\n",
    "result = set1.difference(set2)\n",
    "print(result)  \n",
    "\n",
    "#Removes a specified element from the set if it is present. If the element is not found, no error is raised.\n",
    "my_set = {1, 2, 3, 4}\n",
    "my_set.discard(3)\n",
    "print(my_set)  \n",
    "\n",
    "#Returns a new set containing only the elements that are common to all the specified sets.\n",
    "set1 = {1, 2, 3, 4}\n",
    "set2 = {3, 4, 5}\n",
    "result = set1.intersection(set2)\n",
    "print(result)  \n",
    "\n",
    "#Returns True if two sets have no elements in common; otherwise, returns False.\n",
    "set1 = {1, 2, 3}\n",
    "set2 = {4, 5, 6}\n",
    "print(set1.isdisjoint(set2))  \n",
    "\n",
    "#Returns True if all elements of the calling set are present in the specified set; otherwise, returns False.\n",
    "set1 = {1, 2}\n",
    "set2 = {1, 2, 3, 4}\n",
    "print(set1.issubset(set2))  \n",
    "\n",
    "#Returns True if the calling set contains all elements of the specified set; otherwise, returns False.\n",
    "set1 = {1, 2, 3, 4}\n",
    "set2 = {2, 3}\n",
    "print(set1.issuperset(set2))  \n",
    "\n",
    "#Removes and returns an arbitrary/first element from the set. Raises a KeyError if the set is empty.\n",
    "my_set = {1, 2, 3, 4}\n",
    "element = my_set.pop()\n",
    "print(element)  \n",
    "print(my_set)   \n",
    "\n",
    "#Removes a specified element from the set. Raises a KeyError if the element is not found.\n",
    "my_set = {1, 2, 3, 4}\n",
    "my_set.remove(3)\n",
    "print(my_set) \n",
    "\n",
    "\n",
    "#Returns a new set containing elements that are in either of the sets, but not in both.\n",
    "set1 = {1, 2, 3}\n",
    "set2 = {3, 4, 5}\n",
    "result = set1.symmetric_difference(set2)\n",
    "print(result)  \n",
    "\n",
    "#Returns a new set containing all elements from both sets.\n",
    "set1 = {1, 2, 3}\n",
    "set2 = {3, 4, 5}\n",
    "result = set1.union(set2)\n",
    "print(result)  \n",
    "\n",
    "#Updates the calling set, adding elements from all specified sets.\n",
    "set1 = {1, 2, 3}\n",
    "set2 = {3, 4, 5}\n",
    "set1.update(set2)\n",
    "print(set1)  \n",
    "\n",
    "#The clear() method in Python is used to remove all elements from a set, effectively emptying it. \n",
    "#After calling clear(), the set will be empty, but the set itself will still exist.\n",
    "my_set = {1, 2, 3, 4}\n",
    "my_set.clear()\n",
    "print(my_set)  \n"
   ]
  },
  {
   "cell_type": "code",
   "execution_count": 124,
   "id": "84f9a1e6-bb54-4f23-b5fd-5028b3f2bcb6",
   "metadata": {},
   "outputs": [
    {
     "name": "stdin",
     "output_type": "stream",
     "text": [
      "enter a number: 12\n"
     ]
    },
    {
     "name": "stdout",
     "output_type": "stream",
     "text": [
      "12  is an even number.\n"
     ]
    }
   ],
   "source": [
    "#Flow control statements\n",
    "#Decision statements\n",
    "num1=int(input(\"enter a number:\"))\n",
    "if num1%2==0:\n",
    "    print(num1,\" is an even number.\")"
   ]
  },
  {
   "cell_type": "code",
   "execution_count": 126,
   "id": "e9dac284-1106-43e7-afdd-259299a0390b",
   "metadata": {},
   "outputs": [
    {
     "name": "stdin",
     "output_type": "stream",
     "text": [
      "enter a number: 13\n"
     ]
    },
    {
     "name": "stdout",
     "output_type": "stream",
     "text": [
      "13  is an odd number.\n"
     ]
    }
   ],
   "source": [
    "num1=int(input(\"enter a number:\"))\n",
    "if num1%2!=0:\n",
    "    print(num1,\" is an odd number.\")"
   ]
  },
  {
   "cell_type": "code",
   "execution_count": 128,
   "id": "e37b1f57-def1-43dd-a5a6-8c1285e5f2c7",
   "metadata": {},
   "outputs": [
    {
     "name": "stdin",
     "output_type": "stream",
     "text": [
      "enter a number: 244\n"
     ]
    },
    {
     "name": "stdout",
     "output_type": "stream",
     "text": [
      "244 is an even number.\n"
     ]
    }
   ],
   "source": [
    "num1=int(input(\"enter a number:\"))\n",
    "if num1%2!=0:\n",
    "    print(num1,\" is an odd number.\")\n",
    "else:\n",
    "    print(num1, \"is an even number.\")"
   ]
  },
  {
   "cell_type": "code",
   "execution_count": 134,
   "id": "c84f8e46-31be-4ddc-9bce-bbe7424b5ece",
   "metadata": {},
   "outputs": [
    {
     "name": "stdin",
     "output_type": "stream",
     "text": [
      "enter your age 19\n"
     ]
    },
    {
     "name": "stdout",
     "output_type": "stream",
     "text": [
      "Yes!! you're eligible to vote\n"
     ]
    }
   ],
   "source": [
    "age=int(input(\"enter your age\"))\n",
    "if age>=18:\n",
    "    print(\"Yes!! you're eligible to vote\")\n",
    "else:\n",
    "    print(\"Sorry!! The minimum age for voting is 18.\")"
   ]
  },
  {
   "cell_type": "code",
   "execution_count": 142,
   "id": "3ea39ca0-3309-49c1-b7d8-b5e4f269036f",
   "metadata": {},
   "outputs": [
    {
     "name": "stdin",
     "output_type": "stream",
     "text": [
      "enter a num 14\n"
     ]
    },
    {
     "name": "stdout",
     "output_type": "stream",
     "text": [
      "14  is divisible by 7.\n"
     ]
    }
   ],
   "source": [
    "# Divisible by 7 or not\n",
    "num = int(input(\"enter a num\"))\n",
    "if num%7==0:\n",
    "    print(num,\" is divisible by 7.\")\n",
    "else:\n",
    "    print(num,\" is not divisible by 7.\")\n"
   ]
  },
  {
   "cell_type": "code",
   "execution_count": 146,
   "id": "a201793f-0c07-40c0-9a26-515499b71465",
   "metadata": {},
   "outputs": [
    {
     "name": "stdin",
     "output_type": "stream",
     "text": [
      "enter a num 15\n"
     ]
    },
    {
     "name": "stdout",
     "output_type": "stream",
     "text": [
      "hello\n"
     ]
    }
   ],
   "source": [
    "# multiple of 5\n",
    "num = int(input(\"enter a num\"))\n",
    "if num%5==0:\n",
    "    print(\"hello\")\n",
    "else:\n",
    "    print(\"bye\")\n"
   ]
  },
  {
   "cell_type": "code",
   "execution_count": 164,
   "id": "e6d7ddd2-ce17-417c-93a8-f5a2f2e39903",
   "metadata": {},
   "outputs": [
    {
     "name": "stdin",
     "output_type": "stream",
     "text": [
      "enter two digit num 12\n"
     ]
    },
    {
     "name": "stdout",
     "output_type": "stream",
     "text": [
      "num in ones position is  2\n"
     ]
    }
   ],
   "source": [
    "num = int(input(\"enter two digit num\"))\n",
    "if num>=10 and num<=99:\n",
    "    ones_num=num%10\n",
    "    print(\"num in ones position is \",ones_num)\n",
    "else:\n",
    "    print(\"kindly enter a two digit num\")"
   ]
  },
  {
   "cell_type": "code",
   "execution_count": 180,
   "id": "c4052424-be8e-4799-8f90-18966927a3f6",
   "metadata": {},
   "outputs": [
    {
     "name": "stdin",
     "output_type": "stream",
     "text": [
      "enter two digit num 13\n"
     ]
    },
    {
     "name": "stdout",
     "output_type": "stream",
     "text": [
      "3 is divisible by 3\n"
     ]
    }
   ],
   "source": [
    "#last digit divisible by 3\n",
    "num = int(input(\"enter two digit num\"))\n",
    "ones_num=num%10\n",
    "if(ones_num%3==0):\n",
    "    print(ones_num,\"is divisible by 3\")\n",
    "else:\n",
    "    print(\"Oops !! not divisible by 3\")"
   ]
  },
  {
   "cell_type": "code",
   "execution_count": 199,
   "id": "4c7d4d11-d501-4045-8557-46789ae6df6e",
   "metadata": {},
   "outputs": [
    {
     "name": "stdin",
     "output_type": "stream",
     "text": [
      "enter a num 26\n"
     ]
    },
    {
     "name": "stdout",
     "output_type": "stream",
     "text": [
      "26 is greater than 25\n"
     ]
    }
   ],
   "source": [
    "#input a num and check num is greater or less than 25\n",
    "num = int(input(\"enter a num\"))\n",
    "if num>25:\n",
    "    print(num,\"is greater than 25\")\n",
    "else:\n",
    "    print(num,\"is less than 25\")"
   ]
  },
  {
   "cell_type": "code",
   "execution_count": 203,
   "id": "d9f9b471-4334-4bcc-83c2-0287b1a53de4",
   "metadata": {},
   "outputs": [
    {
     "name": "stdin",
     "output_type": "stream",
     "text": [
      "enter a num 12\n"
     ]
    },
    {
     "name": "stdout",
     "output_type": "stream",
     "text": [
      "12 is positive\n"
     ]
    }
   ],
   "source": [
    "#Number positive or negative\n",
    "num = int(input(\"enter a num\"))\n",
    "if num>0:\n",
    "    print(num,\"is positive\")\n",
    "else:\n",
    "    print(num,\"is negative\")"
   ]
  },
  {
   "cell_type": "code",
   "execution_count": 76,
   "id": "e2d0b6c3-73df-4e68-8613-f84dd799009f",
   "metadata": {},
   "outputs": [
    {
     "name": "stdout",
     "output_type": "stream",
     "text": [
      "5\n",
      "4\n",
      "3\n",
      "2\n",
      "1\n",
      "Done\n"
     ]
    }
   ],
   "source": [
    "#while loop\n",
    "n=5 # n is known as iterative variable\n",
    "while n>0:\n",
    "    print(n)\n",
    "    n=n-1\n",
    "print(\"Done\")"
   ]
  },
  {
   "cell_type": "code",
   "execution_count": 3,
   "id": "cb2513b6-7493-4416-9197-2d4a46cbf636",
   "metadata": {},
   "outputs": [
    {
     "name": "stdin",
     "output_type": "stream",
     "text": [
      "enter num 10\n"
     ]
    },
    {
     "name": "stdout",
     "output_type": "stream",
     "text": [
      "Sum of even number is  20  and sum of odd number is  25\n"
     ]
    }
   ],
   "source": [
    "#for loop\n",
    "n=int(input(\"enter num\"))\n",
    "even=0\n",
    "odd=0\n",
    "i=0\n",
    "for i in range(n):\n",
    "    if i%2==0:\n",
    "        even=even+i\n",
    "    else:\n",
    "        odd=odd+i\n",
    "print(\"Sum of even number is \",even,\" and sum of odd number is \",odd)\n"
   ]
  },
  {
   "cell_type": "code",
   "execution_count": 5,
   "id": "a55c0447-8e02-4cc6-93e2-04a624285659",
   "metadata": {},
   "outputs": [
    {
     "name": "stdout",
     "output_type": "stream",
     "text": [
      "2\n",
      "4\n",
      "6\n",
      "8\n",
      "10\n",
      "12\n",
      "14\n",
      "16\n",
      "18\n",
      "20\n"
     ]
    }
   ],
   "source": [
    "#multiplication table of 2\n",
    "for i in range(1, 11):  \n",
    "    print(2*i)"
   ]
  },
  {
   "cell_type": "code",
   "execution_count": 7,
   "id": "2ff44d1c-bf2e-4970-9545-f18b08920ad9",
   "metadata": {},
   "outputs": [
    {
     "name": "stdout",
     "output_type": "stream",
     "text": [
      "2\n",
      "4\n",
      "6\n",
      "8\n",
      "10\n"
     ]
    }
   ],
   "source": [
    "#multiplication table of 2\n",
    "for i in range(2, 11,2):  \n",
    "    print(i)"
   ]
  },
  {
   "cell_type": "code",
   "execution_count": 1,
   "id": "8db6b4dc-ffeb-40a1-8c47-90c33fdd2501",
   "metadata": {},
   "outputs": [
    {
     "name": "stdout",
     "output_type": "stream",
     "text": [
      "2\n",
      "4\n",
      "6\n",
      "8\n",
      "10\n"
     ]
    }
   ],
   "source": [
    "#multiplication table\n",
    "for i in range(2, 11,2):  \n",
    "    print(i)"
   ]
  },
  {
   "cell_type": "code",
   "execution_count": 11,
   "id": "1f34f649-34bc-487f-ac30-52d389282e0a",
   "metadata": {},
   "outputs": [
    {
     "name": "stdout",
     "output_type": "stream",
     "text": [
      "Even numbers:\n",
      "2 4 6 8 10 12 14 16 18 20 \n",
      "\n",
      "Odd numbers:\n",
      "1 3 5 7 9 11 13 15 17 19 "
     ]
    }
   ],
   "source": [
    "#print odd and even numbers till 20\n",
    "\n",
    "# Print even numbers\n",
    "print(\"Even numbers:\")\n",
    "for i in range(1, 21):\n",
    "    if i % 2 == 0:\n",
    "        print(i, end=\" \")\n",
    "\n",
    "print(\"\\n\")\n",
    "\n",
    "# Print odd numbers\n",
    "print(\"Odd numbers:\")\n",
    "for i in range(1, 21):\n",
    "    if i % 2 != 0:\n",
    "        print(i, end=\" \")\n"
   ]
  },
  {
   "cell_type": "code",
   "execution_count": 13,
   "id": "af8981a7-c878-4977-8aac-9a3761925cf1",
   "metadata": {},
   "outputs": [
    {
     "name": "stdout",
     "output_type": "stream",
     "text": [
      "1 2 3 4 5 6 7 8 9 10 "
     ]
    }
   ],
   "source": [
    "# Print the first 10 natural numbers\n",
    "for i in range(1, 11):\n",
    "    print(i, end=\" \")\n"
   ]
  },
  {
   "cell_type": "code",
   "execution_count": 31,
   "id": "6e14cc33-8d9f-4e26-92eb-cbc9ac9472d5",
   "metadata": {},
   "outputs": [
    {
     "name": "stdin",
     "output_type": "stream",
     "text": [
      "Enter a number:  5\n"
     ]
    },
    {
     "name": "stdout",
     "output_type": "stream",
     "text": [
      "The sum of numbers from 1 to 5 is 15\n"
     ]
    }
   ],
   "source": [
    "#calculate the sum of numbers from 1 to a user-provided number using a for loop,\n",
    "\n",
    "n = int(input(\"Enter a number: \"))\n",
    "sum_n = 0\n",
    "for i in range(1, n+1 ):\n",
    "    sum_n += i\n",
    "print(\"The sum of numbers from 1 to\",n,\"is\",sum_n)\n"
   ]
  },
  {
   "cell_type": "code",
   "execution_count": 35,
   "id": "ddfa3eaf-d646-471e-aa32-c131d7ebb085",
   "metadata": {},
   "outputs": [
    {
     "name": "stdout",
     "output_type": "stream",
     "text": [
      "The values in the list are:\n",
      "1\n",
      "2\n",
      "3\n"
     ]
    }
   ],
   "source": [
    "l=[1,2,3]\n",
    "# Print each value using a for loop\n",
    "print(\"The values in the list are:\")\n",
    "for i in l:\n",
    "    print(i)\n"
   ]
  },
  {
   "cell_type": "code",
   "execution_count": 41,
   "id": "4e4e0feb-ef49-4b97-aba6-ed0a26387e70",
   "metadata": {},
   "outputs": [
    {
     "name": "stdin",
     "output_type": "stream",
     "text": [
      "How many values do you want to add to the list?  3\n",
      "Enter value 5\n",
      "Enter value 10\n",
      "Enter value 20\n"
     ]
    },
    {
     "name": "stdout",
     "output_type": "stream",
     "text": [
      "The final list is: ['5', '10', '20']\n"
     ]
    }
   ],
   "source": [
    "#add values to list using loop\n",
    "l1=[]\n",
    "n = int(input(\"How many values do you want to add to the list? \"))\n",
    "for i in range(n):\n",
    "    value = input(\"Enter value\")\n",
    "    l1.append(value)\n",
    "print(\"The final list is:\", l1)\n"
   ]
  },
  {
   "cell_type": "code",
   "execution_count": 43,
   "id": "0a7b480e-fa0a-43a3-a5d6-7e992b3c342d",
   "metadata": {},
   "outputs": [
    {
     "name": "stdout",
     "output_type": "stream",
     "text": [
      "1\n",
      "2\n",
      "3\n",
      "4\n",
      "5\n",
      "6\n",
      "7\n",
      "8\n",
      "9\n",
      "10\n"
     ]
    }
   ],
   "source": [
    "#print first 10 natural numbers using while loop\n",
    "i = 1  \n",
    "while i <= 10:  \n",
    "    print(i)  \n",
    "    i += 1  \n"
   ]
  },
  {
   "cell_type": "code",
   "execution_count": 3,
   "id": "e83b7baa-0a3d-4f59-ad44-80c44a9d3bd2",
   "metadata": {},
   "outputs": [
    {
     "name": "stdout",
     "output_type": "stream",
     "text": [
      "Even numbers:\n",
      "2 4 6 8 10 12 14 16 18 20 \n",
      "Odd numbers:\n",
      "1 3 5 7 9 11 13 15 17 19 "
     ]
    }
   ],
   "source": [
    "#print odd and even numbers till 20\n",
    "\n",
    "number = 1\n",
    "print(\"Even numbers:\")\n",
    "while number <= 20:\n",
    "    if number % 2 == 0:\n",
    "        print(number, end=' ')\n",
    "    number += 1\n",
    "\n",
    "number = 1\n",
    "print(\"\\nOdd numbers:\")\n",
    "while number <= 20:\n",
    "    if number % 2 != 0:\n",
    "        print(number, end=' ')\n",
    "    number += 1\n"
   ]
  },
  {
   "cell_type": "code",
   "execution_count": 5,
   "id": "7a1bb64d-616a-4904-b275-2a030ed632e6",
   "metadata": {},
   "outputs": [
    {
     "name": "stdout",
     "output_type": "stream",
     "text": [
      "Even numbers:\n",
      "2 4 6 8 10 12 14 16 18 20 \n",
      "Odd numbers:\n",
      "1 3 5 7 9 11 13 15 17 19 "
     ]
    }
   ],
   "source": [
    "# Print even numbers\n",
    "number = 2\n",
    "print(\"Even numbers:\")\n",
    "while number <= 20:\n",
    "    print(number, end=' ')\n",
    "    number += 2\n",
    "\n",
    "# Print odd numbers\n",
    "number = 1\n",
    "print(\"\\nOdd numbers:\")\n",
    "while number <= 20:\n",
    "    print(number, end=' ')\n",
    "    number += 2\n"
   ]
  },
  {
   "cell_type": "code",
   "execution_count": 10,
   "id": "d2a0dc35-8b97-45c7-b1a7-59dffa115301",
   "metadata": {},
   "outputs": [
    {
     "name": "stdout",
     "output_type": "stream",
     "text": [
      "Odd numbers: [1, 3, 5, 7, 9]\n",
      "Even numbers: [2, 4, 6, 8, 10]\n"
     ]
    }
   ],
   "source": [
    "odd_numbers = []\n",
    "even_numbers = []\n",
    "\n",
    "num = 1  \n",
    "\n",
    "while num <= 10:\n",
    "    odd_numbers.append(num)     \n",
    "    even_numbers.append(num + 1)\n",
    "    num += 2  \n",
    "\n",
    "print(\"Odd numbers:\", odd_numbers)\n",
    "print(\"Even numbers:\", even_numbers)\n"
   ]
  },
  {
   "cell_type": "code",
   "execution_count": 33,
   "id": "c0c172e1-26b8-4679-9ea9-a9ef82b9b184",
   "metadata": {},
   "outputs": [
    {
     "name": "stdin",
     "output_type": "stream",
     "text": [
      "Enter your mark (out of 100):  55\n"
     ]
    },
    {
     "name": "stdout",
     "output_type": "stream",
     "text": [
      "Your grade is: E\n"
     ]
    }
   ],
   "source": [
    "#Task\n",
    "#mark user input , and find the grade - if,elif \n",
    "mark = float(input(\"Enter your mark (out of 100): \"))\n",
    "if mark >= 90:\n",
    "    grade = 'A'\n",
    "elif mark >= 80:\n",
    "    grade = 'B'\n",
    "elif mark >= 70:\n",
    "    grade = 'C'\n",
    "elif mark >= 60:\n",
    "    grade = 'D'\n",
    "elif mark >= 50:\n",
    "    grade = 'E'\n",
    "else:\n",
    "    grade = 'F'\n",
    "\n",
    "print(\"Your grade is:\",grade)\n"
   ]
  },
  {
   "cell_type": "code",
   "execution_count": 35,
   "id": "9011766b-3153-4c37-bcb2-b43324f2bf90",
   "metadata": {},
   "outputs": [
    {
     "name": "stdin",
     "output_type": "stream",
     "text": [
      "Enter a number:  -2\n"
     ]
    },
    {
     "name": "stdout",
     "output_type": "stream",
     "text": [
      "The number is: Negative\n"
     ]
    }
   ],
   "source": [
    "#Task -num positive or negative or zero using if elif\n",
    "\n",
    "num = float(input(\"Enter a number: \"))\n",
    "if num > 0:\n",
    "    result = \"Positive\"\n",
    "elif num < 0:\n",
    "    result = \"Negative\"\n",
    "else:\n",
    "    result = \"Zero\"\n",
    "print(f\"The number is: {result}\")\n"
   ]
  },
  {
   "cell_type": "code",
   "execution_count": 37,
   "id": "e652c6da-09ce-44c3-b654-413dcfe13c26",
   "metadata": {},
   "outputs": [
    {
     "name": "stdin",
     "output_type": "stream",
     "text": [
      "Enter a number between 1 and 7:  3\n"
     ]
    },
    {
     "name": "stdout",
     "output_type": "stream",
     "text": [
      "The day corresponding to number 3 is: Tuesday\n"
     ]
    }
   ],
   "source": [
    "#user input any number from 1-7 and find days like sun-mon\n",
    "\n",
    "num = int(input(\"Enter a number between 1 and 7: \"))\n",
    "if num == 1:\n",
    "    day = \"Sunday\"\n",
    "elif num == 2:\n",
    "    day = \"Monday\"\n",
    "elif num == 3:\n",
    "    day = \"Tuesday\"\n",
    "elif num == 4:\n",
    "    day = \"Wednesday\"\n",
    "elif num == 5:\n",
    "    day = \"Thursday\"\n",
    "elif num == 6:\n",
    "    day = \"Friday\"\n",
    "elif num == 7:\n",
    "    day = \"Saturday\"\n",
    "else:\n",
    "    day = \"Invalid input. Please enter a number between 1 and 7.\"\n",
    "print(f\"The day corresponding to number {num} is: {day}\")\n"
   ]
  },
  {
   "cell_type": "code",
   "execution_count": 39,
   "id": "65210c66-79cd-47db-94a1-a3d74999e899",
   "metadata": {},
   "outputs": [
    {
     "name": "stdin",
     "output_type": "stream",
     "text": [
      "Enter the first number:  100\n",
      "Enter the second number:  20\n",
      "Enter the third number:  300\n"
     ]
    },
    {
     "name": "stdout",
     "output_type": "stream",
     "text": [
      "The greatest number is: 300.0\n"
     ]
    }
   ],
   "source": [
    "#task - find greatest of three num\n",
    "\n",
    "num1 = float(input(\"Enter the first number: \"))\n",
    "num2 = float(input(\"Enter the second number: \"))\n",
    "num3 = float(input(\"Enter the third number: \"))\n",
    "\n",
    "if num1 >= num2 and num1 >= num3:\n",
    "    greatest = num1\n",
    "elif num2 >= num1 and num2 >= num3:\n",
    "    greatest = num2\n",
    "else:\n",
    "    greatest = num3\n",
    "print(f\"The greatest number is: {greatest}\")\n"
   ]
  },
  {
   "cell_type": "code",
   "execution_count": 41,
   "id": "e2b1716d-1678-49d6-ac73-291e5fd07fdb",
   "metadata": {},
   "outputs": [
    {
     "name": "stdin",
     "output_type": "stream",
     "text": [
      "Enter a number between 1 and 12:  5\n"
     ]
    },
    {
     "name": "stdout",
     "output_type": "stream",
     "text": [
      "The month corresponding to number 5 is: May\n"
     ]
    }
   ],
   "source": [
    "#read values from 1-12 and print months\n",
    "\n",
    "num = int(input(\"Enter a number between 1 and 12: \"))\n",
    "if num == 1:\n",
    "    month = \"January\"\n",
    "elif num == 2:\n",
    "    month = \"February\"\n",
    "elif num == 3:\n",
    "    month = \"March\"\n",
    "elif num == 4:\n",
    "    month = \"April\"\n",
    "elif num == 5:\n",
    "    month = \"May\"\n",
    "elif num == 6:\n",
    "    month = \"June\"\n",
    "elif num == 7:\n",
    "    month = \"July\"\n",
    "elif num == 8:\n",
    "    month = \"August\"\n",
    "elif num == 9:\n",
    "    month = \"September\"\n",
    "elif num == 10:\n",
    "    month = \"October\"\n",
    "elif num == 11:\n",
    "    month = \"November\"\n",
    "elif num == 12:\n",
    "    month = \"December\"\n",
    "else:\n",
    "    month = \"Invalid input. Please enter a number between 1 and 12.\"\n",
    "print(f\"The month corresponding to number {num} is: {month}\")\n",
    "\n"
   ]
  },
  {
   "cell_type": "code",
   "execution_count": 99,
   "id": "e16b8766-9a5f-47c0-88d5-e073585bcfc4",
   "metadata": {},
   "outputs": [
    {
     "name": "stdout",
     "output_type": "stream",
     "text": [
      "4\n",
      "#####Hello all######\n",
      "True\n",
      "False\n",
      "hELLO ALL\n",
      "hello all\n",
      "Hello all\n",
      "H   e   l   l   o\n",
      "hei H   e   l   l   o\n",
      "{'name': ['nimisha', 'sreeshma', 'asla'], 'profession': ['DS', 'DA', 'DA'], 'age': [25, 26, 24]}\n",
      "nimisha is a DS and her age is 25\n",
      "5\n",
      "1\n",
      "2\n",
      "-1\n",
      "True\n",
      "False\n",
      "False\n",
      "True\n",
      "True\n",
      "False\n",
      "True\n"
     ]
    }
   ],
   "source": [
    "#Other String functions\n",
    "value=\"Hello all\"\n",
    "print(value.count('l'))\n",
    "print(value.center(20,'#'))\n",
    "print(value.endswith('l'))\n",
    "print(value.startswith('l'))\n",
    "print(value.swapcase())\n",
    "print(value.casefold())\n",
    "print(value.capitalize())\n",
    "txt=\"H\\te\\tl\\tl\\to\"\n",
    "x=txt.expandtabs(4)\n",
    "print(x)\n",
    "print(\"hei {}\".format(x))\n",
    "\n",
    "a=\"hello\"\n",
    "name=[\"nimisha\",\"sreeshma\",\"asla\"]\n",
    "print(a.join(name))\n",
    "\n",
    "pro={\"name\":['nimisha','sreeshma','asla'],\"profession\":['DS','DA','DA'],\"age\":[25,26,24]}\n",
    "print(pro)\n",
    "print('{name[0]} is a {profession[0]} and her age is {age[0]}'.format_map(pro))\n",
    "\n",
    "names=\"nnimisha\"\n",
    "print(names.index('s'))\n",
    "print(names.rindex('n'))\n",
    "print(names.find('im'))\n",
    "print(names.find('m',2,3))\n",
    "\n",
    "t=\"abcd123\"\n",
    "print(t.isalnum())\n",
    "print(t.isalpha())\n",
    "print(t.isnumeric())\n",
    "a=\"123\"\n",
    "print(a.isdigit())\n",
    "\n",
    "print(names.islower())\n",
    "print(names.isupper())\n",
    "print(names.isprintable())\n"
   ]
  },
  {
   "cell_type": "code",
   "execution_count": 97,
   "id": "98e825dc-47a3-435d-852c-1614e8c1febe",
   "metadata": {},
   "outputs": [
    {
     "name": "stdout",
     "output_type": "stream",
     "text": [
      "False\n",
      "True\n",
      "True\n",
      "True\n"
     ]
    }
   ],
   "source": [
    "demo=\"hello world\"\n",
    "demo1=\"    \"\n",
    "print(demo.isspace())\n",
    "print(demo1.isspace())\n",
    "demo2=\"True\"\n",
    "print(demo2.isidentifier())\n",
    "print(demo2.title())"
   ]
  },
  {
   "cell_type": "code",
   "execution_count": 145,
   "id": "b9b5c908-1073-4976-a21a-cd86f6e6a2ea",
   "metadata": {},
   "outputs": [
    {
     "name": "stdout",
     "output_type": "stream",
     "text": [
      "hello#####\n",
      "#####hello\n",
      "HELLO\n",
      "hello\n",
      "    h   \n",
      "h   ,,,,,\n",
      "    h   \n",
      "('th', 'is', ' is a partiion statement')\n",
      "('this is a partiion stat', 'e', 'ment')\n",
      "0000000this is a partiion statement\n"
     ]
    }
   ],
   "source": [
    "a=\"hello\"\n",
    "print(a.ljust(10,\"#\"))\n",
    "print(a.rjust(10,\"#\"))\n",
    "print(a.upper())\n",
    "print(a.lower())\n",
    "\n",
    "b=\"    h   ,,,,,\"\n",
    "print(b.rstrip(','))\n",
    "print(b.lstrip())\n",
    "print(b.strip(','))\n",
    "\n",
    "txt=\"this is a partiion statement\"\n",
    "print(txt.partition('is'))\n",
    "print(txt.partition('e'))\n",
    "\n",
    "print(txt.zfill(35))\n"
   ]
  },
  {
   "cell_type": "code",
   "execution_count": 165,
   "id": "9d2fe140-e745-4f51-a79a-7f666d876883",
   "metadata": {},
   "outputs": [
    {
     "name": "stdout",
     "output_type": "stream",
     "text": [
      "['Hello', ' all']\n",
      "['hell', 'all']\n",
      "('this is a ', 'p', 'artiion statement')\n",
      "thas as a partiion statement\n"
     ]
    }
   ],
   "source": [
    "demo=\"Hello\\n all\"\n",
    "print(demo.splitlines())\n",
    "\n",
    "demo1=\"hell,all\"\n",
    "print(demo1.split(','))\n",
    "\n",
    "\n",
    "demo2=\"this is a partiion statement\"\n",
    "print(demo2.rpartition('p'))\n",
    "print(demo2.replace('is','as'))\n"
   ]
  },
  {
   "cell_type": "code",
   "execution_count": 179,
   "id": "45c9a349-ccd8-45b6-a4e6-c33b5aa35de3",
   "metadata": {},
   "outputs": [
    {
     "name": "stdout",
     "output_type": "stream",
     "text": [
      "{78: 77, 105: 111}\n",
      "{78: 'A', 105: 'o'}\n",
      "{78: 77, 105: 111, 109: 109, 72: None}\n",
      "Hello Mom\n",
      "Hello Aom\n",
      "ello Mom\n"
     ]
    }
   ],
   "source": [
    "txt=\"Hello Nim\"\n",
    "t1=txt.maketrans(\"Ni\",\"Mo\")\n",
    "print(t1)\n",
    "\n",
    "t2=txt.maketrans({'N':'A','i':'o'})\n",
    "print(t2)\n",
    "\n",
    "t3=txt.maketrans(\"Nim\",\"Mom\",\"H\")\n",
    "print(t3)\n",
    "\n",
    "print(txt.translate(t1))\n",
    "print(txt.translate(t2))\n",
    "print(txt.translate(t3))"
   ]
  },
  {
   "cell_type": "code",
   "execution_count": 197,
   "id": "6d0f784d-17f3-4bcf-b16f-f0b94f28226f",
   "metadata": {},
   "outputs": [
    {
     "name": "stdout",
     "output_type": "stream",
     "text": [
      "frozenset({1, 2, 3})\n",
      "frozenset({1, 2, 3, 4, 5, 6})\n",
      "frozenset({3})\n",
      "frozenset({1})\n",
      "frozenset({1, 4})\n",
      "True\n",
      "True\n",
      "True\n",
      "3\n",
      "True\n",
      "1\n",
      "2\n",
      "3\n"
     ]
    }
   ],
   "source": [
    "#frozen set\n",
    "\n",
    "#Returns a shallow copy of the frozenset.\n",
    "fs = frozenset([1, 2, 3])\n",
    "fs_copy = fs.copy()\n",
    "print(fs_copy)  # Output: frozenset({1, 2, 3})\n",
    "\n",
    "#Returns a new frozenset with elements from the set and all others.\n",
    "fs = frozenset([1, 2, 3])\n",
    "result = fs.union({4, 5}, {6})\n",
    "print(result)  # Output: frozenset({1, 2, 3, 4, 5, 6})\n",
    "\n",
    "#Returns a new frozenset with elements common to the set and all others.\n",
    "fs = frozenset([1, 2, 3])\n",
    "result = fs.intersection({2, 3, 4}, {3, 5})\n",
    "print(result)  # Output: frozenset({3})\n",
    "\n",
    "#Returns a new frozenset with elements in the set that are not in the others.\n",
    "fs = frozenset([1, 2, 3])\n",
    "result = fs.difference({2, 3, 4})\n",
    "print(result)  # Output: frozenset({1})\n",
    "\n",
    "#Returns a new frozenset with elements in either the set or the other, but not in both.\n",
    "fs = frozenset([1, 2, 3])\n",
    "result = fs.symmetric_difference({2, 3, 4})\n",
    "print(result)  # Output: frozenset({1, 4})\n",
    "\n",
    "#Checks if the frozenset is a subset of another set.\n",
    "fs = frozenset([1, 2])\n",
    "result = fs.issubset({1, 2, 3})\n",
    "print(result)  # Output: True\n",
    "\n",
    "#Checks if the frozenset is a superset of another set.\n",
    "fs = frozenset([1, 2, 3])\n",
    "result = fs.issuperset({1, 2})\n",
    "print(result)  # Output: True\n",
    "\n",
    "#Checks if the frozenset has no elements in common with another set.\n",
    "fs = frozenset([1, 2, 3])\n",
    "result = fs.isdisjoint({4, 5})\n",
    "print(result)  # Output: True\n",
    "\n",
    "#Returns the number of elements in the frozenset.\n",
    "fs = frozenset([1, 2, 3])\n",
    "length = len(fs)\n",
    "print(length)  # Output: 3\n",
    "\n",
    "#Checks if an element is in the frozenset.\n",
    "fs = frozenset([1, 2, 3])\n",
    "result = 2 in fs\n",
    "print(result)  # Output: True\n",
    "\n",
    "#Returns an iterator over the elements of the frozenset.\n",
    "fs = frozenset([1, 2, 3])\n",
    "for element in fs:\n",
    "    print(element)\n",
    "# Output: 1 2 3 (in any order)\n"
   ]
  },
  {
   "cell_type": "code",
   "execution_count": 1,
   "id": "43945665-643c-4f53-aa82-b618884df46b",
   "metadata": {},
   "outputs": [
    {
     "name": "stdout",
     "output_type": "stream",
     "text": [
      "The largest number is: 99\n"
     ]
    }
   ],
   "source": [
    "#largest of numbers from list\n",
    "my_list = [10, 24, 15, 99, 7, 42]\n",
    "largest_number = max(my_list)\n",
    "print(\"The largest number is:\", largest_number)\n"
   ]
  },
  {
   "cell_type": "code",
   "execution_count": 29,
   "id": "4c96fd8b-cc5a-4d0e-b0c3-3f9e7ff11491",
   "metadata": {},
   "outputs": [
    {
     "name": "stdin",
     "output_type": "stream",
     "text": [
      "Enter a string:  nimisha\n"
     ]
    },
    {
     "name": "stdout",
     "output_type": "stream",
     "text": [
      "n , 1\n",
      "i , 2\n",
      "m , 1\n",
      "h , 1\n",
      "a , 1\n",
      "s , 1\n"
     ]
    }
   ],
   "source": [
    "#write a program to accept a string value from user and display the count of each char in that string\n",
    "value= input(\"Enter a string: \")\n",
    "for i in set(value):\n",
    "    print(i,\",\",value.count(i))"
   ]
  },
  {
   "cell_type": "code",
   "execution_count": 27,
   "id": "14409dd2-b40a-453b-9795-8d019b924e07",
   "metadata": {},
   "outputs": [
    {
     "name": "stdout",
     "output_type": "stream",
     "text": [
      "n , 1\n",
      "i , 2\n",
      "m , 1\n",
      "i , 2\n",
      "s , 1\n",
      "h , 1\n",
      "a , 1\n"
     ]
    }
   ],
   "source": [
    "str=\"nimisha\"\n",
    "for i in str:\n",
    "    print(i,\",\",str.count(i))"
   ]
  },
  {
   "cell_type": "code",
   "execution_count": 33,
   "id": "688c23ba-95bd-49ac-b668-e8ee720f7da2",
   "metadata": {},
   "outputs": [
    {
     "name": "stdout",
     "output_type": "stream",
     "text": [
      "(44, 55)\n"
     ]
    }
   ],
   "source": [
    "#a new tuple that includes only the values 44 and 55 from your existing tuple \n",
    "t = (11, 22, 33, 44, 55, 66)\n",
    "new_tuple = t[3:5]\n",
    "print(new_tuple)\n"
   ]
  },
  {
   "cell_type": "code",
   "execution_count": 69,
   "id": "f042e0b3-b12a-4796-9b09-88239a98d575",
   "metadata": {},
   "outputs": [
    {
     "name": "stdout",
     "output_type": "stream",
     "text": [
      "Current Num | Previous Num | Sum   \n",
      "------------------------------------\n",
      "1           |     0        |  1\n",
      "2           |     1        |  3\n",
      "3           |     2        |  5\n",
      "4           |     3        |  7\n",
      "5           |     4        |  9\n",
      "6           |     5        |  11\n",
      "7           |     6        |  13\n",
      "8           |     7        |  15\n",
      "9           |     8        |  17\n"
     ]
    }
   ],
   "source": [
    "#create a Python program that iterates from 1 to 10 and displays a table with the fields \"Current Num,\" \"Previous Num,\" and \"Sum\"\n",
    "previous_num = 0\n",
    "current_num = 1\n",
    "print(\"Current Num | Previous Num | Sum   \")\n",
    "print(\"-\" * 36)\n",
    "for current_num in range(1, 10):\n",
    "    total_sum = current_num + previous_num\n",
    "    print(current_num,\"          |    \",previous_num,\"       | \",total_sum)\n",
    "    previous_num = current_num\n"
   ]
  },
  {
   "cell_type": "code",
   "execution_count": 81,
   "id": "bbb00883-12d7-4070-a5d9-bdfffb22931d",
   "metadata": {},
   "outputs": [
    {
     "name": "stdout",
     "output_type": "stream",
     "text": [
      "5\n",
      "10\n",
      "15\n",
      "20\n",
      "25\n",
      "30\n",
      "35\n",
      "40\n",
      "45\n",
      "50\n",
      "55\n",
      "60\n"
     ]
    }
   ],
   "source": [
    "#print numbers which is divisible by 5 till 60\n",
    "for i in range(1, 61):\n",
    "    if i % 5 == 0:\n",
    "        print(i)\n"
   ]
  },
  {
   "cell_type": "code",
   "execution_count": 127,
   "id": "4eee0778-13db-49d4-96dd-2d3f52009bfe",
   "metadata": {},
   "outputs": [
    {
     "name": "stdin",
     "output_type": "stream",
     "text": [
      "Enter a number:  12\n"
     ]
    },
    {
     "name": "stdout",
     "output_type": "stream",
     "text": [
      "12  is not a prime number.\n"
     ]
    }
   ],
   "source": [
    "#prime or not\n",
    "\n",
    "num = int(input(\"Enter a number: \"))#60\n",
    "if num <= 1:\n",
    "    print(num,\"is not a prime number.\")\n",
    "else:\n",
    "    is_prime = True\n",
    "    for i in range(2, num):  \n",
    "        if num % i == 0:\n",
    "            is_prime = False            \n",
    "\n",
    "    if is_prime:\n",
    "        print(num,\" is a prime number.\")\n",
    "    else:\n",
    "        print(num,\" is not a prime number.\")\n"
   ]
  },
  {
   "cell_type": "code",
   "execution_count": 123,
   "id": "ff046526-f2e6-4899-ade1-bec4678dd462",
   "metadata": {},
   "outputs": [
    {
     "name": "stdin",
     "output_type": "stream",
     "text": [
      "Enter a number: 7\n"
     ]
    },
    {
     "name": "stdout",
     "output_type": "stream",
     "text": [
      "7  is a prime number.\n"
     ]
    }
   ],
   "source": [
    "num=int(input(\"Enter a number:\"))\n",
    "is_prime=True\n",
    "if num <= 1:\n",
    "    is_prime=False\n",
    "else:\n",
    "    i=2\n",
    "    while i < num:\n",
    "        if num % i == 0:\n",
    "            is_prime=False\n",
    "        i += 1\n",
    "if is_prime:\n",
    "    print(num,\" is a prime number.\")\n",
    "else:\n",
    "    print(num,\" is not a prime number.\")      \n",
    "    "
   ]
  },
  {
   "cell_type": "code",
   "execution_count": 32,
   "id": "f74a5164-c007-4af8-b70e-e01d11fdf6d5",
   "metadata": {},
   "outputs": [
    {
     "name": "stdin",
     "output_type": "stream",
     "text": [
      "enter number to get table: 5\n"
     ]
    },
    {
     "name": "stdout",
     "output_type": "stream",
     "text": [
      "====================================\n",
      "Multiplication Table\n",
      "....................................\n",
      "1 * 5 = 5\n",
      "2 * 5 = 10\n",
      "3 * 5 = 15\n",
      "4 * 5 = 20\n",
      "5 * 5 = 25\n",
      "6 * 5 = 30\n",
      "7 * 5 = 35\n",
      "8 * 5 = 40\n",
      "9 * 5 = 45\n",
      "10 * 5 = 50\n"
     ]
    }
   ],
   "source": [
    "#multiplication table\n",
    "num = int(input(\"enter number to get table:\"))#5\n",
    "print(\"=\" * 36)\n",
    "print(\"Multiplication Table\")\n",
    "print(\".\" * 36)\n",
    "for i in range(1,11):   #1 2 3....10\n",
    "    result = i*num #result=1*5=5 2*5=10\n",
    "    # print(i,\"*\",num,\"=\",result)\n",
    "    print(f\"{i} * {num} = {result}\") #\n"
   ]
  },
  {
   "cell_type": "code",
   "execution_count": 46,
   "id": "be018d2d-e6c0-475f-aa29-b5c56de40679",
   "metadata": {},
   "outputs": [
    {
     "name": "stdout",
     "output_type": "stream",
     "text": [
      "apple\n",
      "orange\n",
      "mango\n"
     ]
    }
   ],
   "source": [
    "#create a list and display all elements using for loop\n",
    "lst = [\"apple\",\"orange\",\"mango\"]\n",
    "\n",
    "for i in lst:\n",
    "    print(i)"
   ]
  },
  {
   "cell_type": "code",
   "execution_count": 68,
   "id": "110720c3-b6da-4280-8e9a-50782343b7d1",
   "metadata": {},
   "outputs": [
    {
     "name": "stdin",
     "output_type": "stream",
     "text": [
      "enter a string nimisha\n"
     ]
    },
    {
     "name": "stdout",
     "output_type": "stream",
     "text": [
      "the actual string: nimisha\n",
      "ahsimin\n"
     ]
    }
   ],
   "source": [
    "#user input a string and reverse it\n",
    "actual_string = input(\"enter a string\") #nimisha\n",
    "reverse_string = \"\"\n",
    "print(\"the actual string:\",actual_string)\n",
    "\n",
    "# for i in actual_string[::-1]: #ahsimin\n",
    "#     reverse_string = reverse_string + i #ah...n\n",
    "# print(reverse_string)\n",
    "\n",
    "for i in actual_string: #nimisha\n",
    "    reverse_string = i + reverse_string  #n+\"\"=n  i+n=in  m+in=min i+min=imin s+imin=simin h+simin=hsimin a+hsimin=ahsimin\n",
    "print(reverse_string)"
   ]
  },
  {
   "cell_type": "code",
   "execution_count": 90,
   "id": "19d68d81-2fe3-472b-8052-dcc8618ac676",
   "metadata": {},
   "outputs": [
    {
     "name": "stdin",
     "output_type": "stream",
     "text": [
      "enter a number: 6\n"
     ]
    },
    {
     "name": "stdout",
     "output_type": "stream",
     "text": [
      "720 is the factorial of 6\n"
     ]
    }
   ],
   "source": [
    "#factorial of a number: 5*4*3*2*1=120\n",
    "num = int(input(\"enter a number:\")) #5\n",
    "fact = 1 #1\n",
    "for i in range(1,num+1): #(1,6) i=1   i=2   i=3....i=5\n",
    "    fact *= i #fact=fact*i  |  fact=1*1=1 fact=1*2=2 fact=2*3=6....fact=120\n",
    "print(f\"{fact} is the factorial of {num}\") #120 is the factorial of 5"
   ]
  },
  {
   "cell_type": "code",
   "execution_count": 124,
   "id": "d1df04f3-b32d-4f65-af6c-1a5ba28fe743",
   "metadata": {},
   "outputs": [
    {
     "name": "stdin",
     "output_type": "stream",
     "text": [
      "Enter a String: @\n"
     ]
    },
    {
     "name": "stdout",
     "output_type": "stream",
     "text": [
      "@\n",
      "enter a valid string\n",
      "there are 0 digits in @\n",
      "there are 0 alphabets in @\n"
     ]
    }
   ],
   "source": [
    "#input a string and findout how many digits ,char in that and print the count\n",
    "str = input(\"Enter a String:\") \n",
    "print(str)\n",
    "digit_count = 0\n",
    "alpha_count = 0\n",
    "for i in str:\n",
    "    if i.isdigit():\n",
    "        digit_count += 1\n",
    "    elif i.isalpha():\n",
    "        alpha_count += 1\n",
    "    else:\n",
    "        print(\"enter a valid string\")\n",
    "print(f\"there are {digit_count} digits in {str}\")\n",
    "print(f\"there are {alpha_count} alphabets in {str}\")"
   ]
  },
  {
   "cell_type": "markdown",
   "id": "273cf9a3-1db5-4335-ae81-15b8178c5132",
   "metadata": {},
   "source": [
    "task - using while loop\n",
    "1.factorial \n",
    "2.multiplication table"
   ]
  },
  {
   "cell_type": "code",
   "execution_count": 1,
   "id": "823e4884-51dd-47bc-adae-a924ce3f6cb6",
   "metadata": {},
   "outputs": [
    {
     "name": "stdin",
     "output_type": "stream",
     "text": [
      "Enter a number:  5\n"
     ]
    },
    {
     "name": "stdout",
     "output_type": "stream",
     "text": [
      "120 is the factorial of 5\n"
     ]
    }
   ],
   "source": [
    "# 1.factorial using while\n",
    "num = int(input(\"Enter a number: \"))  # 5\n",
    "fact = 1  \n",
    "i = 1     \n",
    "while i <= num:\n",
    "    fact *= i  \n",
    "    i += 1     \n",
    "print(f\"{fact} is the factorial of {num}\")  "
   ]
  },
  {
   "cell_type": "code",
   "execution_count": 5,
   "id": "a099899e-ba17-4da9-9afc-516a1f8c43d0",
   "metadata": {},
   "outputs": [
    {
     "name": "stdin",
     "output_type": "stream",
     "text": [
      "Enter number to get table:  5\n"
     ]
    },
    {
     "name": "stdout",
     "output_type": "stream",
     "text": [
      "====================================\n",
      "Multiplication Table\n",
      "....................................\n",
      "1 * 5 = 5\n",
      "2 * 5 = 10\n",
      "3 * 5 = 15\n",
      "4 * 5 = 20\n",
      "5 * 5 = 25\n",
      "6 * 5 = 30\n",
      "7 * 5 = 35\n",
      "8 * 5 = 40\n",
      "9 * 5 = 45\n",
      "10 * 5 = 50\n"
     ]
    }
   ],
   "source": [
    "# 2.multiplication table using while\n",
    "\n",
    "num = int(input(\"Enter number to get table: \"))  \n",
    "print(\"=\" * 36)\n",
    "print(\"Multiplication Table\")\n",
    "print(\".\" * 36)\n",
    "\n",
    "i = 1\n",
    "while i <= 10:  \n",
    "    result = i * num  \n",
    "    print(f\"{i} * {num} = {result}\")\n",
    "    i += 1  \n"
   ]
  },
  {
   "cell_type": "code",
   "execution_count": 17,
   "id": "048bbbc9-2645-448e-a8fd-fddc57187586",
   "metadata": {},
   "outputs": [
    {
     "name": "stdin",
     "output_type": "stream",
     "text": [
      "enter two digit num 12\n"
     ]
    },
    {
     "name": "stdout",
     "output_type": "stream",
     "text": [
      "Oops !! 2 divisible by 3\n"
     ]
    }
   ],
   "source": [
    "#Using nested if- read a number and check whether they are two digit, \n",
    "#if yes, check the value in one's position is divisible by 3 or not\n",
    "num = int(input(\"enter two digit num\")) #16\n",
    "if num >= 10 and num <= 99: #16>=10 and 16<=99 True\n",
    "    ones_num=num % 10 #16%10=6\n",
    "    if(ones_num % 3 == 0): #6%3==0 True\n",
    "        print(f\"{ones_num} is divisible by 3\") #True\n",
    "    else:\n",
    "        print(f\"Oops !! {ones_num} divisible by 3\") #False\n",
    "else:\n",
    "    print(\"kindly enter a two digit num\")\n"
   ]
  },
  {
   "cell_type": "raw",
   "id": "f87daa37-dd08-499a-b9a7-fa09ef89f6d2",
   "metadata": {},
   "source": [
    "print pattern\n",
    "****\n",
    "****\n",
    "****\n",
    "****"
   ]
  },
  {
   "cell_type": "code",
   "execution_count": 30,
   "id": "616bb993-1a87-4cba-9965-c5b75dbfb8e6",
   "metadata": {},
   "outputs": [
    {
     "name": "stdout",
     "output_type": "stream",
     "text": [
      "* * * * \n",
      "\n",
      "* * * * \n",
      "\n",
      "* * * * \n",
      "\n",
      "* * * * \n",
      "\n"
     ]
    }
   ],
   "source": [
    "for i in range(4):\n",
    "    for j in range(4):\n",
    "        print(\"*\",end=\" \")\n",
    "    print(\"\\n\")\n"
   ]
  },
  {
   "cell_type": "raw",
   "id": "ff542d3e-bc2f-44b6-8da8-cd5dbd23c64e",
   "metadata": {},
   "source": [
    "*\n",
    "**\n",
    "***\n",
    "****"
   ]
  },
  {
   "cell_type": "code",
   "execution_count": 34,
   "id": "06f79b32-bd7a-49d7-b1b6-1f2db38f46c6",
   "metadata": {},
   "outputs": [
    {
     "name": "stdout",
     "output_type": "stream",
     "text": [
      "\n",
      "\n",
      "* \n",
      "\n",
      "* * \n",
      "\n",
      "* * * \n",
      "\n",
      "* * * * \n",
      "\n"
     ]
    }
   ],
   "source": [
    "for i in range(5):\n",
    "    for i in range(0,i):\n",
    "        print(\"*\",end=\" \")\n",
    "    print(\"\\n\")"
   ]
  },
  {
   "cell_type": "raw",
   "id": "6d0a73b8-5c85-42a7-afe4-95ee08d14215",
   "metadata": {},
   "source": [
    "1\n",
    "12\n",
    "123\n",
    "1234"
   ]
  },
  {
   "cell_type": "code",
   "execution_count": 75,
   "id": "58a3e841-6dc0-4c4e-8ea7-3ae2f3af77ba",
   "metadata": {},
   "outputs": [
    {
     "name": "stdout",
     "output_type": "stream",
     "text": [
      "1\n",
      "\n",
      "12\n",
      "\n",
      "123\n",
      "\n",
      "1234\n",
      "\n"
     ]
    }
   ],
   "source": [
    "for i in range(1,5):\n",
    "    for j in range(1,i+1):\n",
    "        print(j,end=\"\")\n",
    "    print(\"\\n\")"
   ]
  },
  {
   "cell_type": "raw",
   "id": "445f394b-2259-41fe-bbaf-ca1abbef085f",
   "metadata": {},
   "source": [
    "1234\n",
    "1234\n",
    "1234\n",
    "1234"
   ]
  },
  {
   "cell_type": "code",
   "execution_count": 61,
   "id": "e17e8533-80b1-4850-b0cd-6e6dce1711c2",
   "metadata": {},
   "outputs": [
    {
     "name": "stdout",
     "output_type": "stream",
     "text": [
      "1234\n",
      "\n",
      "1234\n",
      "\n",
      "1234\n",
      "\n",
      "1234\n",
      "\n"
     ]
    }
   ],
   "source": [
    "for i in range(1,5):\n",
    "    for j in range(1,5):\n",
    "        print(j,end=\"\")\n",
    "    print(\"\\n\")"
   ]
  },
  {
   "cell_type": "raw",
   "id": "c938b45d-7557-4900-8b2f-6da7f125448b",
   "metadata": {},
   "source": [
    "1\n",
    "22\n",
    "333\n",
    "4444"
   ]
  },
  {
   "cell_type": "code",
   "execution_count": 73,
   "id": "38af5d36-aeed-4cb5-89f5-b81207f27e09",
   "metadata": {},
   "outputs": [
    {
     "name": "stdout",
     "output_type": "stream",
     "text": [
      "1\n",
      "\n",
      "22\n",
      "\n",
      "333\n",
      "\n",
      "4444\n",
      "\n"
     ]
    }
   ],
   "source": [
    "for i in range(1,5):\n",
    "    for j in range(1,i+1):\n",
    "        print(i,end=\"\")\n",
    "    print(\"\\n\")"
   ]
  },
  {
   "cell_type": "raw",
   "id": "e7e3c7b1-c876-482e-8677-fbdd68bf5451",
   "metadata": {},
   "source": [
    "1111\n",
    "2222\n",
    "3333\n",
    "4444"
   ]
  },
  {
   "cell_type": "code",
   "execution_count": 59,
   "id": "40e027bd-8aaa-4fcc-99a3-3982f72326a9",
   "metadata": {},
   "outputs": [
    {
     "name": "stdout",
     "output_type": "stream",
     "text": [
      "1111\n",
      "\n",
      "2222\n",
      "\n",
      "3333\n",
      "\n",
      "4444\n",
      "\n"
     ]
    }
   ],
   "source": [
    "for i in range(1,5):\n",
    "    for j in range(1,5):\n",
    "        print(i,end=\"\")\n",
    "    print(\"\\n\")"
   ]
  },
  {
   "cell_type": "code",
   "execution_count": 53,
   "id": "d50e75c3-dbda-4233-aaa7-6779e4eaf52f",
   "metadata": {},
   "outputs": [
    {
     "name": "stdout",
     "output_type": "stream",
     "text": [
      "1 1 1 1 1 \n",
      "2 2 2 2 \n",
      "3 3 3 \n",
      "4 4 \n",
      "5 \n"
     ]
    }
   ],
   "source": [
    "r=5\n",
    "b=0\n",
    "for i in range(r,0,-1):\n",
    "    b+=1\n",
    "    for j in range(1,i+1):\n",
    "        print(b,end=\" \")\n",
    "    print()"
   ]
  },
  {
   "cell_type": "code",
   "execution_count": 23,
   "id": "284a1327-f34b-4785-be1e-5037f9ed5abf",
   "metadata": {},
   "outputs": [
    {
     "name": "stdout",
     "output_type": "stream",
     "text": [
      "6 6 6 6 6 6 \n",
      "5 5 5 5 5 \n",
      "4 4 4 4 \n",
      "3 3 3 \n",
      "2 2 \n",
      "1 \n"
     ]
    }
   ],
   "source": [
    "for i in range(6,0,-1):\n",
    "    for j in range(1,i+1):\n",
    "        print(i,end=\" \")\n",
    "    print()"
   ]
  },
  {
   "cell_type": "code",
   "execution_count": 15,
   "id": "51d95452-5543-44f3-83fb-70d84e56e368",
   "metadata": {},
   "outputs": [
    {
     "name": "stdout",
     "output_type": "stream",
     "text": [
      "1 2 3 4 5 \n",
      "1 2 3 4 \n",
      "1 2 3 \n",
      "1 2 \n",
      "1 \n"
     ]
    }
   ],
   "source": [
    "for i in range(6,1,-1):\n",
    "    for j in range(1,i):\n",
    "        print(j,end=\" \")\n",
    "    print()"
   ]
  },
  {
   "cell_type": "raw",
   "id": "b1a44bb4-2973-4fca-9825-27fe6fe6d2d0",
   "metadata": {},
   "source": [
    "Task:\n",
    "1.accept the details of a student(rollno,name,mark) and display it \n",
    "2.get a largest number from a list\n",
    "3.Convert the datatype of the items of a list\n",
    "4.reverse a list using for loop\n",
    "5.find sum of square of the numbers in a list\n",
    "6.Using for loop, iterate from 1 to 15, for each iteration check if the current number is odd or even\n",
    "7.simple calculator program(add,sub,mul,div)"
   ]
  },
  {
   "cell_type": "code",
   "execution_count": 63,
   "id": "3e159209-b30a-4d67-98d4-53a124455c9b",
   "metadata": {},
   "outputs": [
    {
     "name": "stdin",
     "output_type": "stream",
     "text": [
      "Enter your name Nimisha\n",
      "enter your rollno 12\n",
      "Enter your course DS\n",
      "Enter total mark you obtained. 99\n"
     ]
    },
    {
     "name": "stdout",
     "output_type": "stream",
     "text": [
      "----------------------------------------\n",
      "Nimisha's Details\n",
      "----------------------------------------\n",
      "Name:     Nimisha\n",
      "Rollno:   12\n",
      "Course:   DS\n",
      "Mark:     99.0\n"
     ]
    }
   ],
   "source": [
    "#1.accept the details of a student(rollno,name,mark) and display it \n",
    "name=input(\"Enter your name\")\n",
    "rollno=int(input(\"enter your rollno\"))\n",
    "course=input(\"Enter your course\")\n",
    "tmark=float(input(\"Enter total mark you obtained.\"))\n",
    "print(\"-\"*40)\n",
    "\n",
    "print(f\"{name}'s Details\")\n",
    "print(\"-\"*40)\n",
    "print(f\"Name:     {name}\")\n",
    "print(f\"Rollno:   {rollno}\")\n",
    "print(f\"Course:   {course}\")\n",
    "print(f\"Mark:     {tmark}\")"
   ]
  },
  {
   "cell_type": "code",
   "execution_count": 105,
   "id": "f9ab747f-b3cb-4cc2-b565-cd9bae412591",
   "metadata": {},
   "outputs": [
    {
     "name": "stdout",
     "output_type": "stream",
     "text": [
      "the largest number is 120\n"
     ]
    }
   ],
   "source": [
    "# 2.get a largest number from a list\n",
    "lst=[100,20,35,120]\n",
    "largest=lst[0]\n",
    "for i in lst:\n",
    "    if i > largest :\n",
    "        largest=i\n",
    "print(f\"the largest number is {largest}\")"
   ]
  },
  {
   "cell_type": "code",
   "execution_count": 8,
   "id": "ba877f6e-0a67-4755-8cc6-e5a569287bad",
   "metadata": {},
   "outputs": [
    {
     "name": "stdout",
     "output_type": "stream",
     "text": [
      "<class 'str'>\n",
      "<class 'int'>\n",
      "<class 'int'>\n",
      "<class 'int'>\n",
      "<class 'int'>\n",
      "<class 'int'>\n",
      "<class 'int'>\n"
     ]
    }
   ],
   "source": [
    "# 3.Convert the datatype of the items of a list\n",
    "lst=[\"1\",\"2\",\"3\"]\n",
    "print(type(lst[1]))\n",
    "c_lst=[]\n",
    "for i in lst:\n",
    "    c_lst.append(int(i))\n",
    "    for i in c_lst:\n",
    "        print(type(i))\n",
    "# print(c_lst)\n",
    "# print(type(c_lst[1]))"
   ]
  },
  {
   "cell_type": "code",
   "execution_count": 127,
   "id": "815be908-ab6e-4c97-983f-2adb27d8f128",
   "metadata": {},
   "outputs": [
    {
     "name": "stdout",
     "output_type": "stream",
     "text": [
      "[120, 35, 20, 100]\n"
     ]
    }
   ],
   "source": [
    "# 4.reverse a list using for loop\n",
    "lst=[100, 20, 35, 120]\n",
    "reversed_lst=[]\n",
    "for item in lst[::-1]:\n",
    "    reversed_lst.append(item)\n",
    "print(reversed_lst)"
   ]
  },
  {
   "cell_type": "code",
   "execution_count": 129,
   "id": "3030a3f2-8969-413b-994f-2276ca03280a",
   "metadata": {},
   "outputs": [
    {
     "name": "stdout",
     "output_type": "stream",
     "text": [
      "30\n"
     ]
    }
   ],
   "source": [
    "# 5.find sum of square of the numbers in a list\n",
    "lst=[1, 2, 3, 4]\n",
    "sum_of_squares=0\n",
    "for number in lst:\n",
    "    sum_of_squares+=number** 2\n",
    "print(sum_of_squares)\n"
   ]
  },
  {
   "cell_type": "code",
   "execution_count": 133,
   "id": "da14c13e-f900-4007-9254-a6f169842633",
   "metadata": {},
   "outputs": [
    {
     "name": "stdout",
     "output_type": "stream",
     "text": [
      "1 is odd\n",
      "2 is even\n",
      "3 is odd\n",
      "4 is even\n",
      "5 is odd\n",
      "6 is even\n",
      "7 is odd\n",
      "8 is even\n",
      "9 is odd\n",
      "10 is even\n",
      "11 is odd\n",
      "12 is even\n",
      "13 is odd\n",
      "14 is even\n",
      "15 is odd\n"
     ]
    }
   ],
   "source": [
    "# 6.Using for loop, iterate from 1 to 15, for each iteration check if the current number is odd or even\n",
    "for num in range(1, 16): \n",
    "    if num%2==0:\n",
    "        print(f\"{num} is even\")\n",
    "    else:\n",
    "        print(f\"{num} is odd\")\n"
   ]
  },
  {
   "cell_type": "code",
   "execution_count": 151,
   "id": "4530dc70-f6e2-41ad-90db-b5f2081f7bb4",
   "metadata": {},
   "outputs": [
    {
     "name": "stdin",
     "output_type": "stream",
     "text": [
      "Enter first number:  12\n"
     ]
    },
    {
     "name": "stdout",
     "output_type": "stream",
     "text": [
      "Select operation:\n"
     ]
    },
    {
     "name": "stdin",
     "output_type": "stream",
     "text": [
      "Choose any operation : (+ - * /):  -\n",
      "Enter second number:  13\n"
     ]
    },
    {
     "name": "stdout",
     "output_type": "stream",
     "text": [
      "12.0-13.0=-1.0\n"
     ]
    }
   ],
   "source": [
    "# 7.simple calculator program(add,sub,mul,div)\n",
    "num1=float(input(\"Enter first number: \"))\n",
    "print(\"Select operation:\")\n",
    "choice=input(\"Choose any operation : (+ - * /): \")\n",
    "num2=float(input(\"Enter second number: \"))\n",
    "if choice in ['+', '-', '*', '/']:\n",
    "    if choice=='+':\n",
    "        result=num1+num2\n",
    "        print(f\"{num1}+{num2}={result}\")\n",
    "    elif choice=='-':\n",
    "        result=num1-num2\n",
    "        print(f\"{num1}-{num2}={result}\")\n",
    "    elif choice=='*':\n",
    "        result=num1*num2\n",
    "        print(f\"{num1}*{num2}={result}\")\n",
    "    elif choice=='/':\n",
    "        if num2!=0:\n",
    "            result=num1/num2\n",
    "            print(f\"{num1}/{num2}={result}\")\n",
    "        else:\n",
    "            print(\"oopsie,,error\")\n",
    "else:\n",
    "    print(\"Invalid input\")"
   ]
  },
  {
   "cell_type": "code",
   "execution_count": 32,
   "id": "e42b700c-1855-4ee9-8955-d80523e04039",
   "metadata": {},
   "outputs": [
    {
     "name": "stdin",
     "output_type": "stream",
     "text": [
      "Enter a number:  153\n"
     ]
    },
    {
     "name": "stdout",
     "output_type": "stream",
     "text": [
      "This is an Armstrong number\n"
     ]
    }
   ],
   "source": [
    "#armstrong numbers\n",
    "\n",
    "num = input(\"Enter a number: \") #\"153\"\n",
    "\n",
    "num_l = len(num) #3\n",
    "num_o = int(num) #153\n",
    "number = num_o #153\n",
    "\n",
    "arm_sum = 0\n",
    "\n",
    "while number > 0:  #153 > 0\n",
    "    digit = number % 10 # digit = 153 % 0 = 3\n",
    "    arm_sum += digit ** num_l  #3 ** 3\n",
    "    number //= 10 #153 // 10=15\n",
    "\n",
    "if arm_sum == num_o: #153 == 153\n",
    "    print(\"This is an Armstrong number\")\n",
    "else:\n",
    "    print(\"This is not an Armstrong number\")\n"
   ]
  },
  {
   "cell_type": "code",
   "execution_count": 38,
   "id": "d34578b2-6e30-4876-80d9-f2add24dc8e9",
   "metadata": {},
   "outputs": [
    {
     "name": "stdin",
     "output_type": "stream",
     "text": [
      "Enter a number:  153\n"
     ]
    },
    {
     "name": "stdout",
     "output_type": "stream",
     "text": [
      "This is an Armstrong number\n"
     ]
    }
   ],
   "source": [
    "#armstrong numbers\n",
    "\n",
    "num = input(\"Enter a number: \") #\"153\"\n",
    "\n",
    "num_l = len(num) #3\n",
    "num_o = int(num) #153\n",
    "number = num_o #153\n",
    "\n",
    "arm_sum = 0\n",
    "for i in num:\n",
    "    arm_sum+=int(i)**num_l\n",
    "    \n",
    "if arm_sum == num_o: #153 == 153\n",
    "    print(\"This is an Armstrong number\")\n",
    "else:\n",
    "    print(\"This is not an Armstrong number\")\n"
   ]
  },
  {
   "cell_type": "code",
   "execution_count": 65,
   "id": "f317588d-2099-4ac0-a3f0-03cc9c168028",
   "metadata": {},
   "outputs": [
    {
     "name": "stdout",
     "output_type": "stream",
     "text": [
      "length of list is 8\n"
     ]
    }
   ],
   "source": [
    "#find the length of the list  without using len()\n",
    "lst=[1,2,3,4,5,2,4,5]\n",
    "l=0\n",
    "for i in lst:\n",
    "    l+=1\n",
    "print(f\"length of list is {l}\")"
   ]
  },
  {
   "cell_type": "code",
   "execution_count": 53,
   "id": "91d6a0f3-bf56-44ad-99dd-f1b1964334ba",
   "metadata": {},
   "outputs": [
    {
     "name": "stdin",
     "output_type": "stream",
     "text": [
      "Enter first num: 10\n",
      "Enter second num: 20\n"
     ]
    },
    {
     "name": "stdout",
     "output_type": "stream",
     "text": [
      "Before swapping\n",
      "------------------------------------\n",
      " num1 : 10\n",
      " num2 : 20\n",
      "After swapping\n",
      "------------------------------------\n",
      " num1 : 20\n",
      " num2 : 10\n"
     ]
    }
   ],
   "source": [
    "#write a program to swap values of two variable without using temp variable\n",
    "num1=int(input(\"Enter first num:\"))\n",
    "num2=int(input(\"Enter second num:\"))\n",
    "print(\"Before swapping\")\n",
    "print(\"-\"*36)\n",
    "print(f\" num1 : {num1}\") #10\n",
    "print(f\" num2 : {num2}\") #20\n",
    "\n",
    "num1=num1+num2 #num1=10+20=30\n",
    "num2=num1-num2 #num2=30-20=10\n",
    "num1=num1-num2 #num1=30-10=20\n",
    "\n",
    "print(\"After swapping\")\n",
    "print(\"-\"*36)\n",
    "print(f\" num1 : {num1}\") #20\n",
    "print(f\" num2 : {num2}\") #10\n",
    "\n",
    "\n"
   ]
  },
  {
   "cell_type": "code",
   "execution_count": 55,
   "id": "f1164f3c-e98f-41aa-8421-764f95ef1c80",
   "metadata": {},
   "outputs": [
    {
     "name": "stdout",
     "output_type": "stream",
     "text": [
      "2\n",
      "4\n"
     ]
    }
   ],
   "source": [
    "#print even number in a list\n",
    "lst=[1,2,3,4,5,6]\n",
    "for i in lst:\n",
    "    if i % 2 == 0 :\n",
    "        print(i)"
   ]
  },
  {
   "cell_type": "code",
   "execution_count": 57,
   "id": "361db556-586d-4685-bfe3-a0d55d9f585c",
   "metadata": {},
   "outputs": [
    {
     "name": "stdout",
     "output_type": "stream",
     "text": [
      "1\n",
      "3\n",
      "5\n"
     ]
    }
   ],
   "source": [
    "#print odd number in a list\n",
    "lst=[1,2,3,4,5,6]\n",
    "for i in lst:\n",
    "    if i % 2 != 0 :\n",
    "        print(i)"
   ]
  },
  {
   "cell_type": "code",
   "execution_count": 59,
   "id": "9d11225d-9f21-46c5-b6c0-36bddf621a16",
   "metadata": {},
   "outputs": [
    {
     "name": "stdout",
     "output_type": "stream",
     "text": [
      "-1\n",
      "-2\n",
      "-6\n"
     ]
    }
   ],
   "source": [
    "#print negative number in a list\n",
    "lst=[1,2,3,4,5,6,-1,-2,-6]\n",
    "for i in lst:\n",
    "    if i<0 :\n",
    "        print(i)"
   ]
  },
  {
   "cell_type": "code",
   "execution_count": 75,
   "id": "f13cb0b3-e76e-4048-aebe-4ed07ef1b288",
   "metadata": {},
   "outputs": [
    {
     "name": "stdin",
     "output_type": "stream",
     "text": [
      "Enter a year:  2024\n"
     ]
    },
    {
     "name": "stdout",
     "output_type": "stream",
     "text": [
      "Yes, it's a leap year.\n"
     ]
    }
   ],
   "source": [
    "#leap year\n",
    "year = int(input(\"Enter a year: \"))\n",
    "if year % 4 == 0: #divisible by 4\n",
    "    if year % 100 == 0:  #if century,it must be divisible by 400 to be leap year\n",
    "        print(\"yes its a century year\")\n",
    "        if year % 400 == 0: #divisible by 400\n",
    "            print(\"Yes, it's a leap year.\")\n",
    "        else:\n",
    "            print(\"No, it's not a leap year.\")\n",
    "    else:\n",
    "        print(\"Yes, it's a leap year.\")\n",
    "else:\n",
    "    print(\"No, it's not a leap year.\")\n"
   ]
  },
  {
   "cell_type": "code",
   "execution_count": 1,
   "id": "ceef288c-c858-41d7-a02e-feef8ac2d424",
   "metadata": {},
   "outputs": [
    {
     "name": "stdin",
     "output_type": "stream",
     "text": [
      "Enter first num: 10\n",
      "Enter second num: 20\n"
     ]
    },
    {
     "name": "stdout",
     "output_type": "stream",
     "text": [
      "Before swapping\n",
      "------------------------------------\n",
      " num1 : 10\n",
      " num2 : 20\n",
      "After swapping\n",
      "------------------------------------\n",
      " num1 : 20\n",
      " num2 : 10\n"
     ]
    }
   ],
   "source": [
    "#write a program to swap values of two variable without using temp variable\n",
    "num1=int(input(\"Enter first num:\"))\n",
    "num2=int(input(\"Enter second num:\"))\n",
    "print(\"Before swapping\")\n",
    "print(\"-\"*36)\n",
    "print(f\" num1 : {num1}\") #10\n",
    "print(f\" num2 : {num2}\") #20\n",
    "\n",
    "num1,num2=num2,num1\n",
    "\n",
    "print(\"After swapping\")\n",
    "print(\"-\"*36)\n",
    "print(f\" num1 : {num1}\") #20\n",
    "print(f\" num2 : {num2}\") #10\n",
    "\n",
    "\n"
   ]
  },
  {
   "cell_type": "code",
   "execution_count": null,
   "id": "65d31abe-092f-40fe-9334-6f8e42c6a292",
   "metadata": {},
   "outputs": [],
   "source": []
  },
  {
   "cell_type": "code",
   "execution_count": null,
   "id": "1485af2b-5078-4577-91db-8cafa74a83dc",
   "metadata": {},
   "outputs": [],
   "source": []
  }
 ],
 "metadata": {
  "kernelspec": {
   "display_name": "Python 3 (ipykernel)",
   "language": "python",
   "name": "python3"
  },
  "language_info": {
   "codemirror_mode": {
    "name": "ipython",
    "version": 3
   },
   "file_extension": ".py",
   "mimetype": "text/x-python",
   "name": "python",
   "nbconvert_exporter": "python",
   "pygments_lexer": "ipython3",
   "version": "3.12.4"
  }
 },
 "nbformat": 4,
 "nbformat_minor": 5
}
